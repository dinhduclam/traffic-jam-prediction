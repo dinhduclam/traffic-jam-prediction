{
  "cells": [
    {
      "cell_type": "code",
      "execution_count": 1,
      "metadata": {
        "colab": {
          "base_uri": "https://localhost:8080/"
        },
        "id": "x2uLwt7yJbv-",
        "outputId": "f9f2118a-3ff1-465e-e64c-001d28cc40e7"
      },
      "outputs": [
        {
          "output_type": "stream",
          "name": "stdout",
          "text": [
            "Mounted at /content/drive\n"
          ]
        }
      ],
      "source": [
        "from google.colab import drive\n",
        "drive.mount(\"/content/drive\")"
      ]
    },
    {
      "cell_type": "code",
      "execution_count": 2,
      "metadata": {
        "colab": {
          "base_uri": "https://localhost:8080/"
        },
        "id": "G1BFy4S3Libz",
        "outputId": "e34050f4-e071-4e92-a6f3-9e925ca178c4"
      },
      "outputs": [
        {
          "output_type": "stream",
          "name": "stdout",
          "text": [
            "/content/drive/MyDrive/traffic-jam\n"
          ]
        }
      ],
      "source": [
        "cd /content/drive/MyDrive/traffic-jam/"
      ]
    },
    {
      "cell_type": "code",
      "execution_count": 10,
      "metadata": {
        "id": "GGPTe4ySLd63"
      },
      "outputs": [],
      "source": [
        "import numpy as np\n",
        "import pandas as pd\n",
        "import os\n",
        "import joblib\n",
        "import matplotlib.pyplot as plt\n",
        "import seaborn as sns\n",
        "\n",
        "from keras.callbacks import ModelCheckpoint\n",
        "from keras.models import load_model\n",
        "\n",
        "from sklearn.preprocessing import MinMaxScaler\n",
        "from sklearn.metrics import classification_report, confusion_matrix\n",
        "from sklearn.model_selection import train_test_split\n",
        "%matplotlib inline"
      ]
    },
    {
      "cell_type": "markdown",
      "metadata": {
        "id": "d4BtniCkJbwO"
      },
      "source": [
        "# I. Load dataset"
      ]
    },
    {
      "cell_type": "code",
      "execution_count": null,
      "metadata": {
        "colab": {
          "base_uri": "https://localhost:8080/"
        },
        "id": "ZPutaf6pyGpi",
        "outputId": "a95d6a72-d6cf-4a20-9287-7a84769f2359"
      },
      "outputs": [
        {
          "name": "stdout",
          "output_type": "stream",
          "text": [
            "Collecting patool\n",
            "  Downloading patool-1.12-py2.py3-none-any.whl (77 kB)\n",
            "\u001b[?25l     \u001b[90m━━━━━━━━━━━━━━━━━━━━━━━━━━━━━━━━━━━━━━━━\u001b[0m \u001b[32m0.0/77.5 kB\u001b[0m \u001b[31m?\u001b[0m eta \u001b[36m-:--:--\u001b[0m\r\u001b[2K     \u001b[90m━━━━━━━━━━━━━━━━━━━━━━━━━━━━━━━━━━━━━━━━\u001b[0m \u001b[32m77.5/77.5 kB\u001b[0m \u001b[31m3.4 MB/s\u001b[0m eta \u001b[36m0:00:00\u001b[0m\n",
            "\u001b[?25hInstalling collected packages: patool\n",
            "Successfully installed patool-1.12\n"
          ]
        }
      ],
      "source": [
        "# !pip install patool"
      ]
    },
    {
      "cell_type": "code",
      "execution_count": null,
      "metadata": {
        "id": "_ahc12JixgOY"
      },
      "outputs": [],
      "source": [
        "# import patoolib\n",
        "# rar_file = './data/data.rar'\n",
        "# patoolib.extract_archive(rar_file)\n",
        "# df = pd.read_csv(\"./data.csv\")\n",
        "# max = df['Timestamp'].max()\n",
        "# get_timestamp = np.arange(0.0, max, 1.0)\n",
        "# df_filtered = df[df['Timestamp'].isin(get_timestamp)]\n",
        "# df_filtered.to_csv('dataset.csv',index=False)\n"
      ]
    },
    {
      "cell_type": "code",
      "execution_count": null,
      "metadata": {
        "colab": {
          "base_uri": "https://localhost:8080/"
        },
        "id": "U329a73Vyeqs",
        "outputId": "63796033-6792-4c48-8809-996ab83d7e4e"
      },
      "outputs": [
        {
          "data": {
            "text/plain": [
              "['data', 'report', 'trained', 'traffic-jam-prediction.ipynb', 'best_model']"
            ]
          },
          "execution_count": 15,
          "metadata": {},
          "output_type": "execute_result"
        }
      ],
      "source": [
        "os.listdir()"
      ]
    },
    {
      "cell_type": "code",
      "execution_count": 4,
      "metadata": {
        "colab": {
          "base_uri": "https://localhost:8080/"
        },
        "id": "HFwBXinMJbwQ",
        "outputId": "0bf92637-1ea5-4054-ef48-ca4fdd1c16d1"
      },
      "outputs": [
        {
          "output_type": "stream",
          "name": "stdout",
          "text": [
            "   Node  Timestamp          X           Y  Velocity  Duration  \\\n",
            "0     0        0.0  21.001976  105.850775      0.00       0.0   \n",
            "1     0        1.0  21.001987  105.850776      2.24       0.0   \n",
            "2     0        2.0  21.002017  105.850780      4.18       0.0   \n",
            "3     0        3.0  21.002064  105.850786      6.14       0.0   \n",
            "4     0        4.0  21.002128  105.850795      8.17       0.0   \n",
            "\n",
            "         Road Type Road Condition Road Event  Congestion  \n",
            "0     38136736#5_0         Smooth     Others           0  \n",
            "1     38136736#5_0         Smooth     Others           0  \n",
            "2     38136736#5_0         Smooth     Others           0  \n",
            "3  :6658619199_1_0         Smooth     Others           0  \n",
            "4     38136736#6_0         Smooth     Others           0  \n",
            "(2103952, 10)\n"
          ]
        }
      ],
      "source": [
        "df = pd.read_csv(\"./data/data_fixed.csv\")\n",
        "\n",
        "print(df.head())\n",
        "print(df.shape)"
      ]
    },
    {
      "cell_type": "code",
      "execution_count": 22,
      "metadata": {
        "id": "m--l4AQthgDf"
      },
      "outputs": [],
      "source": [
        "road_type = pd.DataFrame(list(df['Road Type'].value_counts().index), columns=['Road Type'])\n",
        "road_type.to_csv('road_type.csv', index=False)"
      ]
    },
    {
      "cell_type": "code",
      "source": [
        "df[df['Congestion'] == 1.0]"
      ],
      "metadata": {
        "colab": {
          "base_uri": "https://localhost:8080/",
          "height": 424
        },
        "id": "uxUvfHuaueVN",
        "outputId": "97a5d9f3-7acb-4b7c-f745-e8afdc6e48b1"
      },
      "execution_count": null,
      "outputs": [
        {
          "output_type": "execute_result",
          "data": {
            "text/plain": [
              "         Node  Timestamp          X           Y  Velocity  Duration  \\\n",
              "835        10       97.0  21.007767  105.841631       0.0       5.6   \n",
              "836        10       98.0  21.007767  105.841631       0.0       6.6   \n",
              "837        10       99.0  21.007767  105.841631       0.0       7.6   \n",
              "838        10      100.0  21.007767  105.841631       0.0       8.6   \n",
              "839        10      101.0  21.007767  105.841631       0.0       9.6   \n",
              "...       ...        ...        ...         ...       ...       ...   \n",
              "2103947    78   175199.0  21.007968  105.845990       0.0      82.3   \n",
              "2103948    83   175199.0  21.003175  105.847953       0.0      90.7   \n",
              "2103949    88   175199.0  21.008088  105.846117       0.0      95.2   \n",
              "2103950    92   175199.0  21.003559  105.847658       0.0      63.8   \n",
              "2103951    94   175199.0  21.008094  105.846189       0.0      57.1   \n",
              "\n",
              "              Road Type Road Condition Road Event  Congestion  \n",
              "835       813363002#1_2         Smooth   Accident           1  \n",
              "836       813363002#1_2         Smooth   Accident           1  \n",
              "837       813363002#1_2         Smooth   Accident           1  \n",
              "838       813363002#1_2         Smooth   Accident           1  \n",
              "839       813363002#1_2         Smooth   Accident           1  \n",
              "...                 ...            ...        ...         ...  \n",
              "2103947   704626468#1_3         Smooth   Accident           1  \n",
              "2103948   953227387#5_1         Smooth   Accident           1  \n",
              "2103949   838419179#4_2         Smooth   Accident           1  \n",
              "2103950  472431976#11_0         Smooth   Accident           1  \n",
              "2103951   838419179#4_2         Smooth   Accident           1  \n",
              "\n",
              "[1360176 rows x 10 columns]"
            ],
            "text/html": [
              "\n",
              "\n",
              "  <div id=\"df-01a05bb2-6039-4531-8ac1-467444fffa69\">\n",
              "    <div class=\"colab-df-container\">\n",
              "      <div>\n",
              "<style scoped>\n",
              "    .dataframe tbody tr th:only-of-type {\n",
              "        vertical-align: middle;\n",
              "    }\n",
              "\n",
              "    .dataframe tbody tr th {\n",
              "        vertical-align: top;\n",
              "    }\n",
              "\n",
              "    .dataframe thead th {\n",
              "        text-align: right;\n",
              "    }\n",
              "</style>\n",
              "<table border=\"1\" class=\"dataframe\">\n",
              "  <thead>\n",
              "    <tr style=\"text-align: right;\">\n",
              "      <th></th>\n",
              "      <th>Node</th>\n",
              "      <th>Timestamp</th>\n",
              "      <th>X</th>\n",
              "      <th>Y</th>\n",
              "      <th>Velocity</th>\n",
              "      <th>Duration</th>\n",
              "      <th>Road Type</th>\n",
              "      <th>Road Condition</th>\n",
              "      <th>Road Event</th>\n",
              "      <th>Congestion</th>\n",
              "    </tr>\n",
              "  </thead>\n",
              "  <tbody>\n",
              "    <tr>\n",
              "      <th>835</th>\n",
              "      <td>10</td>\n",
              "      <td>97.0</td>\n",
              "      <td>21.007767</td>\n",
              "      <td>105.841631</td>\n",
              "      <td>0.0</td>\n",
              "      <td>5.6</td>\n",
              "      <td>813363002#1_2</td>\n",
              "      <td>Smooth</td>\n",
              "      <td>Accident</td>\n",
              "      <td>1</td>\n",
              "    </tr>\n",
              "    <tr>\n",
              "      <th>836</th>\n",
              "      <td>10</td>\n",
              "      <td>98.0</td>\n",
              "      <td>21.007767</td>\n",
              "      <td>105.841631</td>\n",
              "      <td>0.0</td>\n",
              "      <td>6.6</td>\n",
              "      <td>813363002#1_2</td>\n",
              "      <td>Smooth</td>\n",
              "      <td>Accident</td>\n",
              "      <td>1</td>\n",
              "    </tr>\n",
              "    <tr>\n",
              "      <th>837</th>\n",
              "      <td>10</td>\n",
              "      <td>99.0</td>\n",
              "      <td>21.007767</td>\n",
              "      <td>105.841631</td>\n",
              "      <td>0.0</td>\n",
              "      <td>7.6</td>\n",
              "      <td>813363002#1_2</td>\n",
              "      <td>Smooth</td>\n",
              "      <td>Accident</td>\n",
              "      <td>1</td>\n",
              "    </tr>\n",
              "    <tr>\n",
              "      <th>838</th>\n",
              "      <td>10</td>\n",
              "      <td>100.0</td>\n",
              "      <td>21.007767</td>\n",
              "      <td>105.841631</td>\n",
              "      <td>0.0</td>\n",
              "      <td>8.6</td>\n",
              "      <td>813363002#1_2</td>\n",
              "      <td>Smooth</td>\n",
              "      <td>Accident</td>\n",
              "      <td>1</td>\n",
              "    </tr>\n",
              "    <tr>\n",
              "      <th>839</th>\n",
              "      <td>10</td>\n",
              "      <td>101.0</td>\n",
              "      <td>21.007767</td>\n",
              "      <td>105.841631</td>\n",
              "      <td>0.0</td>\n",
              "      <td>9.6</td>\n",
              "      <td>813363002#1_2</td>\n",
              "      <td>Smooth</td>\n",
              "      <td>Accident</td>\n",
              "      <td>1</td>\n",
              "    </tr>\n",
              "    <tr>\n",
              "      <th>...</th>\n",
              "      <td>...</td>\n",
              "      <td>...</td>\n",
              "      <td>...</td>\n",
              "      <td>...</td>\n",
              "      <td>...</td>\n",
              "      <td>...</td>\n",
              "      <td>...</td>\n",
              "      <td>...</td>\n",
              "      <td>...</td>\n",
              "      <td>...</td>\n",
              "    </tr>\n",
              "    <tr>\n",
              "      <th>2103947</th>\n",
              "      <td>78</td>\n",
              "      <td>175199.0</td>\n",
              "      <td>21.007968</td>\n",
              "      <td>105.845990</td>\n",
              "      <td>0.0</td>\n",
              "      <td>82.3</td>\n",
              "      <td>704626468#1_3</td>\n",
              "      <td>Smooth</td>\n",
              "      <td>Accident</td>\n",
              "      <td>1</td>\n",
              "    </tr>\n",
              "    <tr>\n",
              "      <th>2103948</th>\n",
              "      <td>83</td>\n",
              "      <td>175199.0</td>\n",
              "      <td>21.003175</td>\n",
              "      <td>105.847953</td>\n",
              "      <td>0.0</td>\n",
              "      <td>90.7</td>\n",
              "      <td>953227387#5_1</td>\n",
              "      <td>Smooth</td>\n",
              "      <td>Accident</td>\n",
              "      <td>1</td>\n",
              "    </tr>\n",
              "    <tr>\n",
              "      <th>2103949</th>\n",
              "      <td>88</td>\n",
              "      <td>175199.0</td>\n",
              "      <td>21.008088</td>\n",
              "      <td>105.846117</td>\n",
              "      <td>0.0</td>\n",
              "      <td>95.2</td>\n",
              "      <td>838419179#4_2</td>\n",
              "      <td>Smooth</td>\n",
              "      <td>Accident</td>\n",
              "      <td>1</td>\n",
              "    </tr>\n",
              "    <tr>\n",
              "      <th>2103950</th>\n",
              "      <td>92</td>\n",
              "      <td>175199.0</td>\n",
              "      <td>21.003559</td>\n",
              "      <td>105.847658</td>\n",
              "      <td>0.0</td>\n",
              "      <td>63.8</td>\n",
              "      <td>472431976#11_0</td>\n",
              "      <td>Smooth</td>\n",
              "      <td>Accident</td>\n",
              "      <td>1</td>\n",
              "    </tr>\n",
              "    <tr>\n",
              "      <th>2103951</th>\n",
              "      <td>94</td>\n",
              "      <td>175199.0</td>\n",
              "      <td>21.008094</td>\n",
              "      <td>105.846189</td>\n",
              "      <td>0.0</td>\n",
              "      <td>57.1</td>\n",
              "      <td>838419179#4_2</td>\n",
              "      <td>Smooth</td>\n",
              "      <td>Accident</td>\n",
              "      <td>1</td>\n",
              "    </tr>\n",
              "  </tbody>\n",
              "</table>\n",
              "<p>1360176 rows × 10 columns</p>\n",
              "</div>\n",
              "      <button class=\"colab-df-convert\" onclick=\"convertToInteractive('df-01a05bb2-6039-4531-8ac1-467444fffa69')\"\n",
              "              title=\"Convert this dataframe to an interactive table.\"\n",
              "              style=\"display:none;\">\n",
              "\n",
              "  <svg xmlns=\"http://www.w3.org/2000/svg\" height=\"24px\"viewBox=\"0 0 24 24\"\n",
              "       width=\"24px\">\n",
              "    <path d=\"M0 0h24v24H0V0z\" fill=\"none\"/>\n",
              "    <path d=\"M18.56 5.44l.94 2.06.94-2.06 2.06-.94-2.06-.94-.94-2.06-.94 2.06-2.06.94zm-11 1L8.5 8.5l.94-2.06 2.06-.94-2.06-.94L8.5 2.5l-.94 2.06-2.06.94zm10 10l.94 2.06.94-2.06 2.06-.94-2.06-.94-.94-2.06-.94 2.06-2.06.94z\"/><path d=\"M17.41 7.96l-1.37-1.37c-.4-.4-.92-.59-1.43-.59-.52 0-1.04.2-1.43.59L10.3 9.45l-7.72 7.72c-.78.78-.78 2.05 0 2.83L4 21.41c.39.39.9.59 1.41.59.51 0 1.02-.2 1.41-.59l7.78-7.78 2.81-2.81c.8-.78.8-2.07 0-2.86zM5.41 20L4 18.59l7.72-7.72 1.47 1.35L5.41 20z\"/>\n",
              "  </svg>\n",
              "      </button>\n",
              "\n",
              "\n",
              "\n",
              "    <div id=\"df-965b7f1b-6018-4642-95df-4e2f779988ab\">\n",
              "      <button class=\"colab-df-quickchart\" onclick=\"quickchart('df-965b7f1b-6018-4642-95df-4e2f779988ab')\"\n",
              "              title=\"Suggest charts.\"\n",
              "              style=\"display:none;\">\n",
              "\n",
              "<svg xmlns=\"http://www.w3.org/2000/svg\" height=\"24px\"viewBox=\"0 0 24 24\"\n",
              "     width=\"24px\">\n",
              "    <g>\n",
              "        <path d=\"M19 3H5c-1.1 0-2 .9-2 2v14c0 1.1.9 2 2 2h14c1.1 0 2-.9 2-2V5c0-1.1-.9-2-2-2zM9 17H7v-7h2v7zm4 0h-2V7h2v10zm4 0h-2v-4h2v4z\"/>\n",
              "    </g>\n",
              "</svg>\n",
              "      </button>\n",
              "    </div>\n",
              "\n",
              "<style>\n",
              "  .colab-df-quickchart {\n",
              "    background-color: #E8F0FE;\n",
              "    border: none;\n",
              "    border-radius: 50%;\n",
              "    cursor: pointer;\n",
              "    display: none;\n",
              "    fill: #1967D2;\n",
              "    height: 32px;\n",
              "    padding: 0 0 0 0;\n",
              "    width: 32px;\n",
              "  }\n",
              "\n",
              "  .colab-df-quickchart:hover {\n",
              "    background-color: #E2EBFA;\n",
              "    box-shadow: 0px 1px 2px rgba(60, 64, 67, 0.3), 0px 1px 3px 1px rgba(60, 64, 67, 0.15);\n",
              "    fill: #174EA6;\n",
              "  }\n",
              "\n",
              "  [theme=dark] .colab-df-quickchart {\n",
              "    background-color: #3B4455;\n",
              "    fill: #D2E3FC;\n",
              "  }\n",
              "\n",
              "  [theme=dark] .colab-df-quickchart:hover {\n",
              "    background-color: #434B5C;\n",
              "    box-shadow: 0px 1px 3px 1px rgba(0, 0, 0, 0.15);\n",
              "    filter: drop-shadow(0px 1px 2px rgba(0, 0, 0, 0.3));\n",
              "    fill: #FFFFFF;\n",
              "  }\n",
              "</style>\n",
              "\n",
              "    <script>\n",
              "      async function quickchart(key) {\n",
              "        const containerElement = document.querySelector('#' + key);\n",
              "        const charts = await google.colab.kernel.invokeFunction(\n",
              "            'suggestCharts', [key], {});\n",
              "      }\n",
              "    </script>\n",
              "\n",
              "      <script>\n",
              "\n",
              "function displayQuickchartButton(domScope) {\n",
              "  let quickchartButtonEl =\n",
              "    domScope.querySelector('#df-965b7f1b-6018-4642-95df-4e2f779988ab button.colab-df-quickchart');\n",
              "  quickchartButtonEl.style.display =\n",
              "    google.colab.kernel.accessAllowed ? 'block' : 'none';\n",
              "}\n",
              "\n",
              "        displayQuickchartButton(document);\n",
              "      </script>\n",
              "      <style>\n",
              "    .colab-df-container {\n",
              "      display:flex;\n",
              "      flex-wrap:wrap;\n",
              "      gap: 12px;\n",
              "    }\n",
              "\n",
              "    .colab-df-convert {\n",
              "      background-color: #E8F0FE;\n",
              "      border: none;\n",
              "      border-radius: 50%;\n",
              "      cursor: pointer;\n",
              "      display: none;\n",
              "      fill: #1967D2;\n",
              "      height: 32px;\n",
              "      padding: 0 0 0 0;\n",
              "      width: 32px;\n",
              "    }\n",
              "\n",
              "    .colab-df-convert:hover {\n",
              "      background-color: #E2EBFA;\n",
              "      box-shadow: 0px 1px 2px rgba(60, 64, 67, 0.3), 0px 1px 3px 1px rgba(60, 64, 67, 0.15);\n",
              "      fill: #174EA6;\n",
              "    }\n",
              "\n",
              "    [theme=dark] .colab-df-convert {\n",
              "      background-color: #3B4455;\n",
              "      fill: #D2E3FC;\n",
              "    }\n",
              "\n",
              "    [theme=dark] .colab-df-convert:hover {\n",
              "      background-color: #434B5C;\n",
              "      box-shadow: 0px 1px 3px 1px rgba(0, 0, 0, 0.15);\n",
              "      filter: drop-shadow(0px 1px 2px rgba(0, 0, 0, 0.3));\n",
              "      fill: #FFFFFF;\n",
              "    }\n",
              "  </style>\n",
              "\n",
              "      <script>\n",
              "        const buttonEl =\n",
              "          document.querySelector('#df-01a05bb2-6039-4531-8ac1-467444fffa69 button.colab-df-convert');\n",
              "        buttonEl.style.display =\n",
              "          google.colab.kernel.accessAllowed ? 'block' : 'none';\n",
              "\n",
              "        async function convertToInteractive(key) {\n",
              "          const element = document.querySelector('#df-01a05bb2-6039-4531-8ac1-467444fffa69');\n",
              "          const dataTable =\n",
              "            await google.colab.kernel.invokeFunction('convertToInteractive',\n",
              "                                                     [key], {});\n",
              "          if (!dataTable) return;\n",
              "\n",
              "          const docLinkHtml = 'Like what you see? Visit the ' +\n",
              "            '<a target=\"_blank\" href=https://colab.research.google.com/notebooks/data_table.ipynb>data table notebook</a>'\n",
              "            + ' to learn more about interactive tables.';\n",
              "          element.innerHTML = '';\n",
              "          dataTable['output_type'] = 'display_data';\n",
              "          await google.colab.output.renderOutput(dataTable, element);\n",
              "          const docLink = document.createElement('div');\n",
              "          docLink.innerHTML = docLinkHtml;\n",
              "          element.appendChild(docLink);\n",
              "        }\n",
              "      </script>\n",
              "    </div>\n",
              "  </div>\n"
            ]
          },
          "metadata": {},
          "execution_count": 11
        }
      ]
    },
    {
      "cell_type": "code",
      "execution_count": null,
      "metadata": {
        "id": "fMEmHN8YgBCW"
      },
      "outputs": [],
      "source": [
        "df['Timestamp'].value_counts().sort_index()"
      ]
    },
    {
      "cell_type": "code",
      "execution_count": null,
      "metadata": {
        "id": "FfgOJZzDcj07"
      },
      "outputs": [],
      "source": [
        "# # Xác định khoảng timestamp cách nhau 20.0\n",
        "# bin_edges = range(0, int(df['Timestamp'].max()) + 21, 20)\n",
        "# # print(bin_edges)\n",
        "\n",
        "# # Nhóm các hàng theo khoảng timestamp\n",
        "# df['TimestampGroup'] = pd.cut(df['Timestamp'], bins=bin_edges, include_lowest=True)\n",
        "# # print(df)\n",
        "\n",
        "# # Hàm xử lý để xóa các hàng có Congestion = 0 trong mỗi nhóm\n",
        "# def remove_zero_congestion(group):\n",
        "#     if (group['Congestion'] == 1).any():\n",
        "#         return group[group['Congestion'] != 0]\n",
        "#     return group\n",
        "\n",
        "# # Áp dụng hàm xử lý cho mỗi nhóm\n",
        "# df_filtered = df.groupby('TimestampGroup').apply(remove_zero_congestion)\n",
        "\n",
        "# # Xóa cột TimestampGroup không cần thiết\n",
        "# df_filtered.drop(columns='TimestampGroup', inplace=True)\n",
        "# df_filtered.reset_index(drop=True, inplace=True)\n",
        "# df_filtered.to_csv('./data/data_fixed.csv', index=False)"
      ]
    },
    {
      "cell_type": "markdown",
      "metadata": {
        "id": "HRSoupF2gRip"
      },
      "source": [
        "### Convert time\n",
        "| Thực tể      | Mô phỏng |\n",
        "| ----------- | ----------- |\n",
        "| 1 ngày      | 480s       |\n",
        "| 1 h   | 480/24 = 20s        |\n",
        "| 1 min      | 20/60 = 1/3s       |\n",
        "| 1 s   | 1/3 * 1/60 = 1/180 s        |"
      ]
    },
    {
      "cell_type": "code",
      "execution_count": null,
      "metadata": {
        "colab": {
          "base_uri": "https://localhost:8080/"
        },
        "id": "s3LuoIb_RAEd",
        "outputId": "8ba7ee71-f7c2-4836-f332-2fb9fd658582"
      },
      "outputs": [
        {
          "name": "stdout",
          "output_type": "stream",
          "text": [
            "2022-01-01 00:00:00\n",
            "1640995200.0\n"
          ]
        }
      ],
      "source": [
        "from datetime import datetime\n",
        "\n",
        "# date in string format\n",
        "start_time_simulate = \"01.01.2022 00:00:00\"\n",
        "\n",
        "# convert to datetime instance\n",
        "date_time = datetime.strptime(start_time_simulate, '%d.%m.%Y %H:%M:%S')\n",
        "print(date_time)\n",
        "\n",
        "# timestamp in seconds\n",
        "start_timestamp = date_time.timestamp()\n",
        "print(start_timestamp)"
      ]
    },
    {
      "cell_type": "code",
      "execution_count": null,
      "metadata": {
        "colab": {
          "base_uri": "https://localhost:8080/"
        },
        "id": "XsvWrRMUYozE",
        "outputId": "03ceb199-fc91-4e14-9a9b-7ec998d3936f"
      },
      "outputs": [
        {
          "data": {
            "text/plain": [
              "27"
            ]
          },
          "execution_count": 39,
          "metadata": {},
          "output_type": "execute_result"
        }
      ],
      "source": [
        "import datetime\n",
        "def convert_to_timeslot(timestamp):\n",
        "  # Định nghĩa khoảng thời gian và định dạng ngày-giờ\n",
        "  time_interval = datetime.timedelta(minutes=30)\n",
        "  date_format = '%Y-%m-%d %H:%M:%S'\n",
        "\n",
        "  # Tạo một timestamp ví dụ (dạng giây)\n",
        "  timestamp = 1626010200\n",
        "\n",
        "  # Chuyển đổi timestamp sang kiểu datetime\n",
        "  dt = datetime.datetime.fromtimestamp(timestamp)\n",
        "\n",
        "  # Trích xuất ngày từ datetime\n",
        "  date = dt.date()\n",
        "\n",
        "  # Tạo datetime bắt đầu của ngày đó\n",
        "  start_time = datetime.datetime.combine(date, datetime.time(0, 0, 0))\n",
        "\n",
        "  # Tính thời gian đã trôi qua kể từ thời điểm bắt đầu ngày\n",
        "  time_passed = dt - start_time\n",
        "\n",
        "  # Chia thời gian đã trôi qua thành khoảng thời gian\n",
        "  interval_index = int(time_passed.total_seconds() / time_interval.total_seconds())\n",
        "\n",
        "  return interval_index\n",
        "\n",
        "convert_to_timeslot(1640995200.0)"
      ]
    },
    {
      "cell_type": "code",
      "execution_count": null,
      "metadata": {
        "id": "oH87XXk5Rj1N"
      },
      "outputs": [],
      "source": [
        "def convert(simulate_second):\n",
        "  base_convert = 86400 / 480\n",
        "  real_second = simulate_second * base_convert\n",
        "  return real_second"
      ]
    },
    {
      "cell_type": "code",
      "execution_count": null,
      "metadata": {
        "id": "-z6Fd1G-TFnd"
      },
      "outputs": [],
      "source": [
        "df.Timestamp = df.Timestamp.apply(lambda x: start_timestamp + convert(x))"
      ]
    },
    {
      "cell_type": "code",
      "execution_count": null,
      "metadata": {
        "id": "7w_2ydkIUr4a"
      },
      "outputs": [],
      "source": [
        "df['Timestamp'] = pd.to_datetime(df['Timestamp'], unit='s')"
      ]
    },
    {
      "cell_type": "code",
      "execution_count": null,
      "metadata": {
        "id": "cdIG_7nDXhi4"
      },
      "outputs": [],
      "source": [
        "df['MonthOfYear'] = pd.DatetimeIndex(df['Timestamp']).month\n",
        "df['DayOfMonth'] = pd.DatetimeIndex(df['Timestamp']).day\n",
        "df['DayOfWeek'] = pd.DatetimeIndex(df['Timestamp']).dayofweek\n",
        "df['Timeslot'] = df['Timestamp'].apply(lambda x: convert_to_timeslot(x))"
      ]
    },
    {
      "cell_type": "code",
      "execution_count": null,
      "metadata": {
        "colab": {
          "base_uri": "https://localhost:8080/",
          "height": 461
        },
        "id": "yYpLv7JDJbwa",
        "outputId": "e58f6e12-4183-4d0e-d487-4604500b2318"
      },
      "outputs": [
        {
          "data": {
            "text/html": [
              "\n",
              "\n",
              "  <div id=\"df-ac0ee2ff-ab30-47e5-838d-feb9455dc3ee\">\n",
              "    <div class=\"colab-df-container\">\n",
              "      <div>\n",
              "<style scoped>\n",
              "    .dataframe tbody tr th:only-of-type {\n",
              "        vertical-align: middle;\n",
              "    }\n",
              "\n",
              "    .dataframe tbody tr th {\n",
              "        vertical-align: top;\n",
              "    }\n",
              "\n",
              "    .dataframe thead th {\n",
              "        text-align: right;\n",
              "    }\n",
              "</style>\n",
              "<table border=\"1\" class=\"dataframe\">\n",
              "  <thead>\n",
              "    <tr style=\"text-align: right;\">\n",
              "      <th></th>\n",
              "      <th>Node</th>\n",
              "      <th>Timestamp</th>\n",
              "      <th>X</th>\n",
              "      <th>Y</th>\n",
              "      <th>Velocity</th>\n",
              "      <th>Duration</th>\n",
              "      <th>Road Type</th>\n",
              "      <th>Road Condition</th>\n",
              "      <th>Road Event</th>\n",
              "      <th>Congestion</th>\n",
              "      <th>MonthOfYear</th>\n",
              "      <th>DayOfMonth</th>\n",
              "      <th>DayOfWeek</th>\n",
              "      <th>Timeslot</th>\n",
              "    </tr>\n",
              "  </thead>\n",
              "  <tbody>\n",
              "    <tr>\n",
              "      <th>0</th>\n",
              "      <td>0</td>\n",
              "      <td>2022-01-01 00:00:00</td>\n",
              "      <td>21.001976</td>\n",
              "      <td>105.850775</td>\n",
              "      <td>0.00</td>\n",
              "      <td>0.0</td>\n",
              "      <td>38136736#5_0</td>\n",
              "      <td>Smooth</td>\n",
              "      <td>Others</td>\n",
              "      <td>0</td>\n",
              "      <td>1</td>\n",
              "      <td>1</td>\n",
              "      <td>5</td>\n",
              "      <td>27</td>\n",
              "    </tr>\n",
              "    <tr>\n",
              "      <th>1</th>\n",
              "      <td>0</td>\n",
              "      <td>2022-01-01 00:03:00</td>\n",
              "      <td>21.001987</td>\n",
              "      <td>105.850776</td>\n",
              "      <td>2.24</td>\n",
              "      <td>0.0</td>\n",
              "      <td>38136736#5_0</td>\n",
              "      <td>Smooth</td>\n",
              "      <td>Others</td>\n",
              "      <td>0</td>\n",
              "      <td>1</td>\n",
              "      <td>1</td>\n",
              "      <td>5</td>\n",
              "      <td>27</td>\n",
              "    </tr>\n",
              "    <tr>\n",
              "      <th>2</th>\n",
              "      <td>0</td>\n",
              "      <td>2022-01-01 00:06:00</td>\n",
              "      <td>21.002017</td>\n",
              "      <td>105.850780</td>\n",
              "      <td>4.18</td>\n",
              "      <td>0.0</td>\n",
              "      <td>38136736#5_0</td>\n",
              "      <td>Smooth</td>\n",
              "      <td>Others</td>\n",
              "      <td>0</td>\n",
              "      <td>1</td>\n",
              "      <td>1</td>\n",
              "      <td>5</td>\n",
              "      <td>27</td>\n",
              "    </tr>\n",
              "    <tr>\n",
              "      <th>3</th>\n",
              "      <td>0</td>\n",
              "      <td>2022-01-01 00:09:00</td>\n",
              "      <td>21.002064</td>\n",
              "      <td>105.850786</td>\n",
              "      <td>6.14</td>\n",
              "      <td>0.0</td>\n",
              "      <td>:6658619199_1_0</td>\n",
              "      <td>Smooth</td>\n",
              "      <td>Others</td>\n",
              "      <td>0</td>\n",
              "      <td>1</td>\n",
              "      <td>1</td>\n",
              "      <td>5</td>\n",
              "      <td>27</td>\n",
              "    </tr>\n",
              "    <tr>\n",
              "      <th>4</th>\n",
              "      <td>0</td>\n",
              "      <td>2022-01-01 00:12:00</td>\n",
              "      <td>21.002128</td>\n",
              "      <td>105.850795</td>\n",
              "      <td>8.17</td>\n",
              "      <td>0.0</td>\n",
              "      <td>38136736#6_0</td>\n",
              "      <td>Smooth</td>\n",
              "      <td>Others</td>\n",
              "      <td>0</td>\n",
              "      <td>1</td>\n",
              "      <td>1</td>\n",
              "      <td>5</td>\n",
              "      <td>27</td>\n",
              "    </tr>\n",
              "  </tbody>\n",
              "</table>\n",
              "</div>\n",
              "      <button class=\"colab-df-convert\" onclick=\"convertToInteractive('df-ac0ee2ff-ab30-47e5-838d-feb9455dc3ee')\"\n",
              "              title=\"Convert this dataframe to an interactive table.\"\n",
              "              style=\"display:none;\">\n",
              "\n",
              "  <svg xmlns=\"http://www.w3.org/2000/svg\" height=\"24px\"viewBox=\"0 0 24 24\"\n",
              "       width=\"24px\">\n",
              "    <path d=\"M0 0h24v24H0V0z\" fill=\"none\"/>\n",
              "    <path d=\"M18.56 5.44l.94 2.06.94-2.06 2.06-.94-2.06-.94-.94-2.06-.94 2.06-2.06.94zm-11 1L8.5 8.5l.94-2.06 2.06-.94-2.06-.94L8.5 2.5l-.94 2.06-2.06.94zm10 10l.94 2.06.94-2.06 2.06-.94-2.06-.94-.94-2.06-.94 2.06-2.06.94z\"/><path d=\"M17.41 7.96l-1.37-1.37c-.4-.4-.92-.59-1.43-.59-.52 0-1.04.2-1.43.59L10.3 9.45l-7.72 7.72c-.78.78-.78 2.05 0 2.83L4 21.41c.39.39.9.59 1.41.59.51 0 1.02-.2 1.41-.59l7.78-7.78 2.81-2.81c.8-.78.8-2.07 0-2.86zM5.41 20L4 18.59l7.72-7.72 1.47 1.35L5.41 20z\"/>\n",
              "  </svg>\n",
              "      </button>\n",
              "\n",
              "\n",
              "\n",
              "    <div id=\"df-a70a439f-fbc0-4cd4-b4c2-8e99e6e50377\">\n",
              "      <button class=\"colab-df-quickchart\" onclick=\"quickchart('df-a70a439f-fbc0-4cd4-b4c2-8e99e6e50377')\"\n",
              "              title=\"Suggest charts.\"\n",
              "              style=\"display:none;\">\n",
              "\n",
              "<svg xmlns=\"http://www.w3.org/2000/svg\" height=\"24px\"viewBox=\"0 0 24 24\"\n",
              "     width=\"24px\">\n",
              "    <g>\n",
              "        <path d=\"M19 3H5c-1.1 0-2 .9-2 2v14c0 1.1.9 2 2 2h14c1.1 0 2-.9 2-2V5c0-1.1-.9-2-2-2zM9 17H7v-7h2v7zm4 0h-2V7h2v10zm4 0h-2v-4h2v4z\"/>\n",
              "    </g>\n",
              "</svg>\n",
              "      </button>\n",
              "    </div>\n",
              "\n",
              "<style>\n",
              "  .colab-df-quickchart {\n",
              "    background-color: #E8F0FE;\n",
              "    border: none;\n",
              "    border-radius: 50%;\n",
              "    cursor: pointer;\n",
              "    display: none;\n",
              "    fill: #1967D2;\n",
              "    height: 32px;\n",
              "    padding: 0 0 0 0;\n",
              "    width: 32px;\n",
              "  }\n",
              "\n",
              "  .colab-df-quickchart:hover {\n",
              "    background-color: #E2EBFA;\n",
              "    box-shadow: 0px 1px 2px rgba(60, 64, 67, 0.3), 0px 1px 3px 1px rgba(60, 64, 67, 0.15);\n",
              "    fill: #174EA6;\n",
              "  }\n",
              "\n",
              "  [theme=dark] .colab-df-quickchart {\n",
              "    background-color: #3B4455;\n",
              "    fill: #D2E3FC;\n",
              "  }\n",
              "\n",
              "  [theme=dark] .colab-df-quickchart:hover {\n",
              "    background-color: #434B5C;\n",
              "    box-shadow: 0px 1px 3px 1px rgba(0, 0, 0, 0.15);\n",
              "    filter: drop-shadow(0px 1px 2px rgba(0, 0, 0, 0.3));\n",
              "    fill: #FFFFFF;\n",
              "  }\n",
              "</style>\n",
              "\n",
              "    <script>\n",
              "      async function quickchart(key) {\n",
              "        const containerElement = document.querySelector('#' + key);\n",
              "        const charts = await google.colab.kernel.invokeFunction(\n",
              "            'suggestCharts', [key], {});\n",
              "      }\n",
              "    </script>\n",
              "\n",
              "      <script>\n",
              "\n",
              "function displayQuickchartButton(domScope) {\n",
              "  let quickchartButtonEl =\n",
              "    domScope.querySelector('#df-a70a439f-fbc0-4cd4-b4c2-8e99e6e50377 button.colab-df-quickchart');\n",
              "  quickchartButtonEl.style.display =\n",
              "    google.colab.kernel.accessAllowed ? 'block' : 'none';\n",
              "}\n",
              "\n",
              "        displayQuickchartButton(document);\n",
              "      </script>\n",
              "      <style>\n",
              "    .colab-df-container {\n",
              "      display:flex;\n",
              "      flex-wrap:wrap;\n",
              "      gap: 12px;\n",
              "    }\n",
              "\n",
              "    .colab-df-convert {\n",
              "      background-color: #E8F0FE;\n",
              "      border: none;\n",
              "      border-radius: 50%;\n",
              "      cursor: pointer;\n",
              "      display: none;\n",
              "      fill: #1967D2;\n",
              "      height: 32px;\n",
              "      padding: 0 0 0 0;\n",
              "      width: 32px;\n",
              "    }\n",
              "\n",
              "    .colab-df-convert:hover {\n",
              "      background-color: #E2EBFA;\n",
              "      box-shadow: 0px 1px 2px rgba(60, 64, 67, 0.3), 0px 1px 3px 1px rgba(60, 64, 67, 0.15);\n",
              "      fill: #174EA6;\n",
              "    }\n",
              "\n",
              "    [theme=dark] .colab-df-convert {\n",
              "      background-color: #3B4455;\n",
              "      fill: #D2E3FC;\n",
              "    }\n",
              "\n",
              "    [theme=dark] .colab-df-convert:hover {\n",
              "      background-color: #434B5C;\n",
              "      box-shadow: 0px 1px 3px 1px rgba(0, 0, 0, 0.15);\n",
              "      filter: drop-shadow(0px 1px 2px rgba(0, 0, 0, 0.3));\n",
              "      fill: #FFFFFF;\n",
              "    }\n",
              "  </style>\n",
              "\n",
              "      <script>\n",
              "        const buttonEl =\n",
              "          document.querySelector('#df-ac0ee2ff-ab30-47e5-838d-feb9455dc3ee button.colab-df-convert');\n",
              "        buttonEl.style.display =\n",
              "          google.colab.kernel.accessAllowed ? 'block' : 'none';\n",
              "\n",
              "        async function convertToInteractive(key) {\n",
              "          const element = document.querySelector('#df-ac0ee2ff-ab30-47e5-838d-feb9455dc3ee');\n",
              "          const dataTable =\n",
              "            await google.colab.kernel.invokeFunction('convertToInteractive',\n",
              "                                                     [key], {});\n",
              "          if (!dataTable) return;\n",
              "\n",
              "          const docLinkHtml = 'Like what you see? Visit the ' +\n",
              "            '<a target=\"_blank\" href=https://colab.research.google.com/notebooks/data_table.ipynb>data table notebook</a>'\n",
              "            + ' to learn more about interactive tables.';\n",
              "          element.innerHTML = '';\n",
              "          dataTable['output_type'] = 'display_data';\n",
              "          await google.colab.output.renderOutput(dataTable, element);\n",
              "          const docLink = document.createElement('div');\n",
              "          docLink.innerHTML = docLinkHtml;\n",
              "          element.appendChild(docLink);\n",
              "        }\n",
              "      </script>\n",
              "    </div>\n",
              "  </div>\n"
            ],
            "text/plain": [
              "   Node           Timestamp          X           Y  Velocity  Duration  \\\n",
              "0     0 2022-01-01 00:00:00  21.001976  105.850775      0.00       0.0   \n",
              "1     0 2022-01-01 00:03:00  21.001987  105.850776      2.24       0.0   \n",
              "2     0 2022-01-01 00:06:00  21.002017  105.850780      4.18       0.0   \n",
              "3     0 2022-01-01 00:09:00  21.002064  105.850786      6.14       0.0   \n",
              "4     0 2022-01-01 00:12:00  21.002128  105.850795      8.17       0.0   \n",
              "\n",
              "         Road Type Road Condition Road Event  Congestion  MonthOfYear  \\\n",
              "0     38136736#5_0         Smooth     Others           0            1   \n",
              "1     38136736#5_0         Smooth     Others           0            1   \n",
              "2     38136736#5_0         Smooth     Others           0            1   \n",
              "3  :6658619199_1_0         Smooth     Others           0            1   \n",
              "4     38136736#6_0         Smooth     Others           0            1   \n",
              "\n",
              "   DayOfMonth  DayOfWeek  Timeslot  \n",
              "0           1          5        27  \n",
              "1           1          5        27  \n",
              "2           1          5        27  \n",
              "3           1          5        27  \n",
              "4           1          5        27  "
            ]
          },
          "execution_count": 44,
          "metadata": {},
          "output_type": "execute_result"
        }
      ],
      "source": [
        "df.head()"
      ]
    },
    {
      "cell_type": "markdown",
      "metadata": {
        "id": "z9M80oaYBufb"
      },
      "source": [
        "## Explore data"
      ]
    },
    {
      "cell_type": "code",
      "execution_count": null,
      "metadata": {
        "colab": {
          "base_uri": "https://localhost:8080/",
          "height": 462
        },
        "id": "T0A0pjtq2axZ",
        "outputId": "3cec6539-a468-4a09-ceac-619ded046b38"
      },
      "outputs": [
        {
          "data": {
            "text/plain": [
              "<Axes: >"
            ]
          },
          "execution_count": 5,
          "metadata": {},
          "output_type": "execute_result"
        },
        {
          "data": {
            "image/png": "[encoded data removed]",
            "text/plain": [
              "<Figure size 640x480 with 1 Axes>"
            ]
          },
          "metadata": {},
          "output_type": "display_data"
        }
      ],
      "source": [
        "df['Congestion'].value_counts().plot.bar(rot=0)"
      ]
    },
    {
      "cell_type": "code",
      "execution_count": null,
      "metadata": {
        "id": "qn4jm_QIwzpu"
      },
      "outputs": [],
      "source": [
        "# def plot_cat_cols_with_target(data, cols, target):\n",
        "#     for col in cols:\n",
        "#         pd.crosstab(data[col], data[target]).plot.bar(figsize=(20, 10), fontsize=18)\n",
        "#     plt.show()\n",
        "\n",
        "# cat_cols = [\"Node\", \"Timestamp\", \"Road Type\"]\n",
        "# plot_cat_cols_with_target(df, cat_cols, \"Road Event\")"
      ]
    },
    {
      "cell_type": "markdown",
      "metadata": {
        "id": "qMOQUX9GByya"
      },
      "source": [
        "## Preprocess data"
      ]
    },
    {
      "cell_type": "markdown",
      "metadata": {
        "id": "meihgADfFkVC"
      },
      "source": [
        "### LDBPE Input"
      ]
    },
    {
      "cell_type": "code",
      "execution_count": 5,
      "metadata": {
        "id": "TNf87QiTSCGa"
      },
      "outputs": [],
      "source": [
        "from sklearn import preprocessing\n",
        "lb_encoder = preprocessing.LabelEncoder()"
      ]
    },
    {
      "cell_type": "code",
      "execution_count": 6,
      "metadata": {
        "id": "gw4WMGTaJHme"
      },
      "outputs": [],
      "source": [
        "ldbpe_features = ['Timestamp', 'Velocity', 'Duration', 'Road Type', 'Congestion']\n",
        "ldbpe_data = df[ldbpe_features]"
      ]
    },
    {
      "cell_type": "code",
      "execution_count": 7,
      "metadata": {
        "colab": {
          "base_uri": "https://localhost:8080/"
        },
        "id": "RX5HDJz8VkJX",
        "outputId": "e8511852-cefe-4cd3-896f-d135c23c903d"
      },
      "outputs": [
        {
          "output_type": "stream",
          "name": "stderr",
          "text": [
            "<ipython-input-7-b81010522b03>:1: SettingWithCopyWarning: \n",
            "A value is trying to be set on a copy of a slice from a DataFrame.\n",
            "Try using .loc[row_indexer,col_indexer] = value instead\n",
            "\n",
            "See the caveats in the documentation: https://pandas.pydata.org/pandas-docs/stable/user_guide/indexing.html#returning-a-view-versus-a-copy\n",
            "  ldbpe_data['Road Type'] = lb_encoder.fit_transform(ldbpe_data['Road Type'])\n"
          ]
        }
      ],
      "source": [
        "ldbpe_data['Road Type'] = lb_encoder.fit_transform(ldbpe_data['Road Type'])"
      ]
    },
    {
      "cell_type": "code",
      "execution_count": null,
      "metadata": {
        "colab": {
          "base_uri": "https://localhost:8080/"
        },
        "id": "VTC1XFyFV0Mu",
        "outputId": "50a067e8-fd60-4def-88b5-d7e893dda412"
      },
      "outputs": [
        {
          "output_type": "stream",
          "name": "stderr",
          "text": [
            "<ipython-input-77-9f7cf742f027>:2: SettingWithCopyWarning: \n",
            "A value is trying to be set on a copy of a slice from a DataFrame.\n",
            "Try using .loc[row_indexer,col_indexer] = value instead\n",
            "\n",
            "See the caveats in the documentation: https://pandas.pydata.org/pandas-docs/stable/user_guide/indexing.html#returning-a-view-versus-a-copy\n",
            "  ldbpe_data[['Timestamp', 'Velocity', 'Duration', 'Road Type']] = ldbpe_scaler.fit_transform(ldbpe_data[['Timestamp', 'Velocity', 'Duration', 'Road Type']])\n"
          ]
        }
      ],
      "source": [
        "ldbpe_scaler = MinMaxScaler()\n",
        "ldbpe_data[['Timestamp', 'Velocity', 'Duration', 'Road Type']] = ldbpe_scaler.fit_transform(ldbpe_data[['Timestamp', 'Velocity', 'Duration', 'Road Type']])"
      ]
    },
    {
      "cell_type": "code",
      "source": [
        "joblib.dump(ldbpe_scaler, 'ldbpe_minmax_model.pkl')"
      ],
      "metadata": {
        "colab": {
          "base_uri": "https://localhost:8080/",
          "height": 200
        },
        "id": "er-sLfPZv47g",
        "outputId": "f1e9d9f6-884b-492b-ee1b-b2588fbd4396"
      },
      "execution_count": 9,
      "outputs": [
        {
          "output_type": "error",
          "ename": "NameError",
          "evalue": "ignored",
          "traceback": [
            "\u001b[0;31m---------------------------------------------------------------------------\u001b[0m",
            "\u001b[0;31mNameError\u001b[0m                                 Traceback (most recent call last)",
            "\u001b[0;32m<ipython-input-9-604dce1a2aba>\u001b[0m in \u001b[0;36m<cell line: 3>\u001b[0;34m()\u001b[0m\n\u001b[1;32m      1\u001b[0m \u001b[0;32mimport\u001b[0m \u001b[0mjoblib\u001b[0m\u001b[0;34m\u001b[0m\u001b[0;34m\u001b[0m\u001b[0m\n\u001b[1;32m      2\u001b[0m \u001b[0;34m\u001b[0m\u001b[0m\n\u001b[0;32m----> 3\u001b[0;31m \u001b[0mjoblib\u001b[0m\u001b[0;34m.\u001b[0m\u001b[0mdump\u001b[0m\u001b[0;34m(\u001b[0m\u001b[0mldbpe_scaler\u001b[0m\u001b[0;34m,\u001b[0m \u001b[0;34m'ldbpe_minmax_model.pkl'\u001b[0m\u001b[0;34m)\u001b[0m\u001b[0;34m\u001b[0m\u001b[0;34m\u001b[0m\u001b[0m\n\u001b[0m",
            "\u001b[0;31mNameError\u001b[0m: name 'ldbpe_scaler' is not defined"
          ]
        }
      ]
    },
    {
      "cell_type": "code",
      "source": [
        "joblib.dump(lb_encoder, 'ldbpe_encoder_model.pkl')"
      ],
      "metadata": {
        "id": "I3LdLJZe8zZF",
        "colab": {
          "base_uri": "https://localhost:8080/"
        },
        "outputId": "53ca4d70-d9c6-47d7-ee79-08dcf6992725"
      },
      "execution_count": 11,
      "outputs": [
        {
          "output_type": "execute_result",
          "data": {
            "text/plain": [
              "['ldbpe_encoder_model.pkl']"
            ]
          },
          "metadata": {},
          "execution_count": 11
        }
      ]
    },
    {
      "cell_type": "code",
      "execution_count": null,
      "metadata": {
        "colab": {
          "base_uri": "https://localhost:8080/",
          "height": 424
        },
        "id": "FQBxOiEcU9Vn",
        "outputId": "9d5bb1cb-a115-40f2-884d-e0ec5a93033c"
      },
      "outputs": [
        {
          "data": {
            "text/html": [
              "\n",
              "\n",
              "  <div id=\"df-e2970c63-21cf-430a-8c86-6520a53f2f4f\">\n",
              "    <div class=\"colab-df-container\">\n",
              "      <div>\n",
              "<style scoped>\n",
              "    .dataframe tbody tr th:only-of-type {\n",
              "        vertical-align: middle;\n",
              "    }\n",
              "\n",
              "    .dataframe tbody tr th {\n",
              "        vertical-align: top;\n",
              "    }\n",
              "\n",
              "    .dataframe thead th {\n",
              "        text-align: right;\n",
              "    }\n",
              "</style>\n",
              "<table border=\"1\" class=\"dataframe\">\n",
              "  <thead>\n",
              "    <tr style=\"text-align: right;\">\n",
              "      <th></th>\n",
              "      <th>Timestamp</th>\n",
              "      <th>Velocity</th>\n",
              "      <th>Duration</th>\n",
              "      <th>Road Type</th>\n",
              "      <th>Congestion</th>\n",
              "    </tr>\n",
              "  </thead>\n",
              "  <tbody>\n",
              "    <tr>\n",
              "      <th>0</th>\n",
              "      <td>0.0</td>\n",
              "      <td>0.00</td>\n",
              "      <td>0.0</td>\n",
              "      <td>184</td>\n",
              "      <td>0</td>\n",
              "    </tr>\n",
              "    <tr>\n",
              "      <th>1</th>\n",
              "      <td>1.0</td>\n",
              "      <td>2.24</td>\n",
              "      <td>0.0</td>\n",
              "      <td>184</td>\n",
              "      <td>0</td>\n",
              "    </tr>\n",
              "    <tr>\n",
              "      <th>2</th>\n",
              "      <td>2.0</td>\n",
              "      <td>4.18</td>\n",
              "      <td>0.0</td>\n",
              "      <td>184</td>\n",
              "      <td>0</td>\n",
              "    </tr>\n",
              "    <tr>\n",
              "      <th>3</th>\n",
              "      <td>3.0</td>\n",
              "      <td>6.14</td>\n",
              "      <td>0.0</td>\n",
              "      <td>757</td>\n",
              "      <td>0</td>\n",
              "    </tr>\n",
              "    <tr>\n",
              "      <th>4</th>\n",
              "      <td>4.0</td>\n",
              "      <td>8.17</td>\n",
              "      <td>0.0</td>\n",
              "      <td>185</td>\n",
              "      <td>0</td>\n",
              "    </tr>\n",
              "    <tr>\n",
              "      <th>...</th>\n",
              "      <td>...</td>\n",
              "      <td>...</td>\n",
              "      <td>...</td>\n",
              "      <td>...</td>\n",
              "      <td>...</td>\n",
              "    </tr>\n",
              "    <tr>\n",
              "      <th>2103947</th>\n",
              "      <td>175199.0</td>\n",
              "      <td>0.00</td>\n",
              "      <td>82.3</td>\n",
              "      <td>263</td>\n",
              "      <td>1</td>\n",
              "    </tr>\n",
              "    <tr>\n",
              "      <th>2103948</th>\n",
              "      <td>175199.0</td>\n",
              "      <td>0.00</td>\n",
              "      <td>90.7</td>\n",
              "      <td>410</td>\n",
              "      <td>1</td>\n",
              "    </tr>\n",
              "    <tr>\n",
              "      <th>2103949</th>\n",
              "      <td>175199.0</td>\n",
              "      <td>0.00</td>\n",
              "      <td>95.2</td>\n",
              "      <td>335</td>\n",
              "      <td>1</td>\n",
              "    </tr>\n",
              "    <tr>\n",
              "      <th>2103950</th>\n",
              "      <td>175199.0</td>\n",
              "      <td>0.00</td>\n",
              "      <td>63.8</td>\n",
              "      <td>201</td>\n",
              "      <td>1</td>\n",
              "    </tr>\n",
              "    <tr>\n",
              "      <th>2103951</th>\n",
              "      <td>175199.0</td>\n",
              "      <td>0.00</td>\n",
              "      <td>57.1</td>\n",
              "      <td>335</td>\n",
              "      <td>1</td>\n",
              "    </tr>\n",
              "  </tbody>\n",
              "</table>\n",
              "<p>2103952 rows × 5 columns</p>\n",
              "</div>\n",
              "      <button class=\"colab-df-convert\" onclick=\"convertToInteractive('df-e2970c63-21cf-430a-8c86-6520a53f2f4f')\"\n",
              "              title=\"Convert this dataframe to an interactive table.\"\n",
              "              style=\"display:none;\">\n",
              "\n",
              "  <svg xmlns=\"http://www.w3.org/2000/svg\" height=\"24px\"viewBox=\"0 0 24 24\"\n",
              "       width=\"24px\">\n",
              "    <path d=\"M0 0h24v24H0V0z\" fill=\"none\"/>\n",
              "    <path d=\"M18.56 5.44l.94 2.06.94-2.06 2.06-.94-2.06-.94-.94-2.06-.94 2.06-2.06.94zm-11 1L8.5 8.5l.94-2.06 2.06-.94-2.06-.94L8.5 2.5l-.94 2.06-2.06.94zm10 10l.94 2.06.94-2.06 2.06-.94-2.06-.94-.94-2.06-.94 2.06-2.06.94z\"/><path d=\"M17.41 7.96l-1.37-1.37c-.4-.4-.92-.59-1.43-.59-.52 0-1.04.2-1.43.59L10.3 9.45l-7.72 7.72c-.78.78-.78 2.05 0 2.83L4 21.41c.39.39.9.59 1.41.59.51 0 1.02-.2 1.41-.59l7.78-7.78 2.81-2.81c.8-.78.8-2.07 0-2.86zM5.41 20L4 18.59l7.72-7.72 1.47 1.35L5.41 20z\"/>\n",
              "  </svg>\n",
              "      </button>\n",
              "\n",
              "\n",
              "\n",
              "    <div id=\"df-221f22d8-2f25-44ef-96e0-a6e16cc652e6\">\n",
              "      <button class=\"colab-df-quickchart\" onclick=\"quickchart('df-221f22d8-2f25-44ef-96e0-a6e16cc652e6')\"\n",
              "              title=\"Suggest charts.\"\n",
              "              style=\"display:none;\">\n",
              "\n",
              "<svg xmlns=\"http://www.w3.org/2000/svg\" height=\"24px\"viewBox=\"0 0 24 24\"\n",
              "     width=\"24px\">\n",
              "    <g>\n",
              "        <path d=\"M19 3H5c-1.1 0-2 .9-2 2v14c0 1.1.9 2 2 2h14c1.1 0 2-.9 2-2V5c0-1.1-.9-2-2-2zM9 17H7v-7h2v7zm4 0h-2V7h2v10zm4 0h-2v-4h2v4z\"/>\n",
              "    </g>\n",
              "</svg>\n",
              "      </button>\n",
              "    </div>\n",
              "\n",
              "<style>\n",
              "  .colab-df-quickchart {\n",
              "    background-color: #E8F0FE;\n",
              "    border: none;\n",
              "    border-radius: 50%;\n",
              "    cursor: pointer;\n",
              "    display: none;\n",
              "    fill: #1967D2;\n",
              "    height: 32px;\n",
              "    padding: 0 0 0 0;\n",
              "    width: 32px;\n",
              "  }\n",
              "\n",
              "  .colab-df-quickchart:hover {\n",
              "    background-color: #E2EBFA;\n",
              "    box-shadow: 0px 1px 2px rgba(60, 64, 67, 0.3), 0px 1px 3px 1px rgba(60, 64, 67, 0.15);\n",
              "    fill: #174EA6;\n",
              "  }\n",
              "\n",
              "  [theme=dark] .colab-df-quickchart {\n",
              "    background-color: #3B4455;\n",
              "    fill: #D2E3FC;\n",
              "  }\n",
              "\n",
              "  [theme=dark] .colab-df-quickchart:hover {\n",
              "    background-color: #434B5C;\n",
              "    box-shadow: 0px 1px 3px 1px rgba(0, 0, 0, 0.15);\n",
              "    filter: drop-shadow(0px 1px 2px rgba(0, 0, 0, 0.3));\n",
              "    fill: #FFFFFF;\n",
              "  }\n",
              "</style>\n",
              "\n",
              "    <script>\n",
              "      async function quickchart(key) {\n",
              "        const containerElement = document.querySelector('#' + key);\n",
              "        const charts = await google.colab.kernel.invokeFunction(\n",
              "            'suggestCharts', [key], {});\n",
              "      }\n",
              "    </script>\n",
              "\n",
              "      <script>\n",
              "\n",
              "function displayQuickchartButton(domScope) {\n",
              "  let quickchartButtonEl =\n",
              "    domScope.querySelector('#df-221f22d8-2f25-44ef-96e0-a6e16cc652e6 button.colab-df-quickchart');\n",
              "  quickchartButtonEl.style.display =\n",
              "    google.colab.kernel.accessAllowed ? 'block' : 'none';\n",
              "}\n",
              "\n",
              "        displayQuickchartButton(document);\n",
              "      </script>\n",
              "      <style>\n",
              "    .colab-df-container {\n",
              "      display:flex;\n",
              "      flex-wrap:wrap;\n",
              "      gap: 12px;\n",
              "    }\n",
              "\n",
              "    .colab-df-convert {\n",
              "      background-color: #E8F0FE;\n",
              "      border: none;\n",
              "      border-radius: 50%;\n",
              "      cursor: pointer;\n",
              "      display: none;\n",
              "      fill: #1967D2;\n",
              "      height: 32px;\n",
              "      padding: 0 0 0 0;\n",
              "      width: 32px;\n",
              "    }\n",
              "\n",
              "    .colab-df-convert:hover {\n",
              "      background-color: #E2EBFA;\n",
              "      box-shadow: 0px 1px 2px rgba(60, 64, 67, 0.3), 0px 1px 3px 1px rgba(60, 64, 67, 0.15);\n",
              "      fill: #174EA6;\n",
              "    }\n",
              "\n",
              "    [theme=dark] .colab-df-convert {\n",
              "      background-color: #3B4455;\n",
              "      fill: #D2E3FC;\n",
              "    }\n",
              "\n",
              "    [theme=dark] .colab-df-convert:hover {\n",
              "      background-color: #434B5C;\n",
              "      box-shadow: 0px 1px 3px 1px rgba(0, 0, 0, 0.15);\n",
              "      filter: drop-shadow(0px 1px 2px rgba(0, 0, 0, 0.3));\n",
              "      fill: #FFFFFF;\n",
              "    }\n",
              "  </style>\n",
              "\n",
              "      <script>\n",
              "        const buttonEl =\n",
              "          document.querySelector('#df-e2970c63-21cf-430a-8c86-6520a53f2f4f button.colab-df-convert');\n",
              "        buttonEl.style.display =\n",
              "          google.colab.kernel.accessAllowed ? 'block' : 'none';\n",
              "\n",
              "        async function convertToInteractive(key) {\n",
              "          const element = document.querySelector('#df-e2970c63-21cf-430a-8c86-6520a53f2f4f');\n",
              "          const dataTable =\n",
              "            await google.colab.kernel.invokeFunction('convertToInteractive',\n",
              "                                                     [key], {});\n",
              "          if (!dataTable) return;\n",
              "\n",
              "          const docLinkHtml = 'Like what you see? Visit the ' +\n",
              "            '<a target=\"_blank\" href=https://colab.research.google.com/notebooks/data_table.ipynb>data table notebook</a>'\n",
              "            + ' to learn more about interactive tables.';\n",
              "          element.innerHTML = '';\n",
              "          dataTable['output_type'] = 'display_data';\n",
              "          await google.colab.output.renderOutput(dataTable, element);\n",
              "          const docLink = document.createElement('div');\n",
              "          docLink.innerHTML = docLinkHtml;\n",
              "          element.appendChild(docLink);\n",
              "        }\n",
              "      </script>\n",
              "    </div>\n",
              "  </div>\n"
            ],
            "text/plain": [
              "         Timestamp  Velocity  Duration  Road Type  Congestion\n",
              "0              0.0      0.00       0.0        184           0\n",
              "1              1.0      2.24       0.0        184           0\n",
              "2              2.0      4.18       0.0        184           0\n",
              "3              3.0      6.14       0.0        757           0\n",
              "4              4.0      8.17       0.0        185           0\n",
              "...            ...       ...       ...        ...         ...\n",
              "2103947   175199.0      0.00      82.3        263           1\n",
              "2103948   175199.0      0.00      90.7        410           1\n",
              "2103949   175199.0      0.00      95.2        335           1\n",
              "2103950   175199.0      0.00      63.8        201           1\n",
              "2103951   175199.0      0.00      57.1        335           1\n",
              "\n",
              "[2103952 rows x 5 columns]"
            ]
          },
          "execution_count": 118,
          "metadata": {},
          "output_type": "execute_result"
        }
      ],
      "source": [
        "ldbpe_data"
      ]
    },
    {
      "cell_type": "code",
      "execution_count": null,
      "metadata": {
        "id": "edd3yZmIhq_d"
      },
      "outputs": [],
      "source": [
        "def generator(df, look_back = 48, timesteps=20, num_features=4):\n",
        "  bin_edges = range(0, int(df['Timestamp'].max()) + timesteps + 1, timesteps)\n",
        "  # Nhóm các hàng theo khoảng timestamp\n",
        "  df['TimestampGroup20'] = pd.cut(df['Timestamp'], bins=bin_edges, include_lowest=True)\n",
        "  ldbpe_features = ['Timestamp', 'Velocity', 'Duration', 'Road Type']\n",
        "  timeslot_range = list(df.groupby('TimestampGroup20').size().sort_index().index)\n",
        "  max_rows = df.groupby('TimestampGroup20').size().max()\n",
        "\n",
        "  samples = np.zeros((look_back, max_rows, num_features))\n",
        "  labels = np.zeros((look_back,))\n",
        "\n",
        "  j = 0\n",
        "  while j+look_back-1 < len(timeslot_range):\n",
        "    k = 0\n",
        "    for i in range(j, j+look_back-1):\n",
        "      data = df[df['TimestampGroup20'] == timeslot_range[i]]\n",
        "      padding_zero = np.zeros((max_rows - len(data), data.shape[1]))\n",
        "      data = pd.concat([data, pd.DataFrame(padding_zero, columns=data.columns)])\n",
        "      samples[k] = data[ldbpe_features]\n",
        "      labels[k] = 0 if len(data[data['Congestion'] == 1]) <= 0 else 1\n",
        "      k+=1\n",
        "\n",
        "    j+=look_back\n",
        "    yield samples, labels"
      ]
    },
    {
      "cell_type": "markdown",
      "metadata": {
        "id": "YcKpoqVGFozd"
      },
      "source": [
        "### HDBPE Input"
      ]
    },
    {
      "cell_type": "code",
      "execution_count": null,
      "metadata": {
        "id": "NaHhXoMYaH5e"
      },
      "outputs": [],
      "source": [
        "hdbpe_features = ['Timestamp', 'X', 'Y', 'Congestion']\n",
        "hdbpe_data = df[hdbpe_features]"
      ]
    },
    {
      "cell_type": "code",
      "execution_count": null,
      "metadata": {
        "colab": {
          "base_uri": "https://localhost:8080/"
        },
        "id": "gfVcKc7gQST-",
        "outputId": "d6fe085e-ca26-40e6-f091-7fbfc99773e9"
      },
      "outputs": [
        {
          "output_type": "execute_result",
          "data": {
            "text/plain": [
              "1    1360176\n",
              "0     743776\n",
              "Name: Congestion, dtype: int64"
            ]
          },
          "metadata": {},
          "execution_count": 22
        }
      ],
      "source": [
        "hdbpe_data.Congestion.value_counts()"
      ]
    },
    {
      "cell_type": "code",
      "execution_count": null,
      "metadata": {
        "id": "ADiNo9LZbCSt"
      },
      "outputs": [],
      "source": [
        "# hdbpe_data.to_csv('./data/hdbpe_dataset.csv',index=False)"
      ]
    },
    {
      "cell_type": "code",
      "execution_count": null,
      "metadata": {
        "colab": {
          "base_uri": "https://localhost:8080/"
        },
        "id": "UKYcO7GKi73_",
        "outputId": "08f52847-7077-4e1a-ed3d-d3e1a1a5e86d"
      },
      "outputs": [
        {
          "data": {
            "text/plain": [
              "(2103952, 4)"
            ]
          },
          "execution_count": 58,
          "metadata": {},
          "output_type": "execute_result"
        }
      ],
      "source": [
        "hdbpe_data.shape"
      ]
    },
    {
      "cell_type": "code",
      "execution_count": null,
      "metadata": {
        "colab": {
          "base_uri": "https://localhost:8080/",
          "height": 462
        },
        "id": "WoBWxxVBacqD",
        "outputId": "1cf08469-cbe2-4dff-9a80-205b54843062"
      },
      "outputs": [
        {
          "data": {
            "text/plain": [
              "<Axes: >"
            ]
          },
          "execution_count": 21,
          "metadata": {},
          "output_type": "execute_result"
        },
        {
          "data": {
            "image/png": "[encoded data removed]",
            "text/plain": [
              "<Figure size 640x480 with 1 Axes>"
            ]
          },
          "metadata": {},
          "output_type": "display_data"
        }
      ],
      "source": [
        "hdbpe_data.Congestion.value_counts().plot.bar(rot=0)"
      ]
    },
    {
      "cell_type": "code",
      "execution_count": null,
      "metadata": {
        "colab": {
          "base_uri": "https://localhost:8080/"
        },
        "id": "-F4d-HsSJbwb",
        "outputId": "6543729e-78d0-4c95-a4e0-a9b730d1f97b"
      },
      "outputs": [
        {
          "output_type": "stream",
          "name": "stderr",
          "text": [
            "<ipython-input-23-dd09bde2593c>:2: SettingWithCopyWarning: \n",
            "A value is trying to be set on a copy of a slice from a DataFrame.\n",
            "Try using .loc[row_indexer,col_indexer] = value instead\n",
            "\n",
            "See the caveats in the documentation: https://pandas.pydata.org/pandas-docs/stable/user_guide/indexing.html#returning-a-view-versus-a-copy\n",
            "  hdbpe_data[['Timestamp', 'X', 'Y']] = hbdpe_scaler.fit_transform(hdbpe_data[['Timestamp', 'X', 'Y']])\n"
          ]
        }
      ],
      "source": [
        "hbdpe_scaler = MinMaxScaler()\n",
        "hdbpe_data[['Timestamp', 'X', 'Y']] = hbdpe_scaler.fit_transform(hdbpe_data[['Timestamp', 'X', 'Y']])"
      ]
    },
    {
      "cell_type": "code",
      "source": [
        "import joblib\n",
        "\n",
        "joblib.dump(hbdpe_scaler, 'hbdpe_minmax_model.pkl')"
      ],
      "metadata": {
        "colab": {
          "base_uri": "https://localhost:8080/"
        },
        "id": "2M6iAm48wKqd",
        "outputId": "b3f27811-4599-4488-ff7b-152d030f6200"
      },
      "execution_count": null,
      "outputs": [
        {
          "output_type": "execute_result",
          "data": {
            "text/plain": [
              "['hbdpe_minmax_model.pkl']"
            ]
          },
          "metadata": {},
          "execution_count": 28
        }
      ]
    },
    {
      "cell_type": "code",
      "execution_count": null,
      "metadata": {
        "id": "iuldFQzFvRtj"
      },
      "outputs": [],
      "source": [
        "X_hdbpe = hdbpe_data[['Timestamp', 'X', 'Y']]\n",
        "y_hdbpe = hdbpe_data['Congestion']"
      ]
    },
    {
      "cell_type": "markdown",
      "metadata": {
        "id": "o1kU-6ktFxlC"
      },
      "source": [
        "### Project data with PCA"
      ]
    },
    {
      "cell_type": "code",
      "execution_count": null,
      "metadata": {
        "id": "qFkcXoDv2WPj"
      },
      "outputs": [],
      "source": [
        "from sklearn.decomposition import PCA\n",
        "from mpl_toolkits import mplot3d\n",
        "\n",
        "def display(df):\n",
        "  # PCA\n",
        "  pca = PCA(n_components=3)\n",
        "  principalComponents = pca.fit_transform(df[df.columns[:-1]])\n",
        "  principalDf = pd.DataFrame(data = principalComponents,  columns = ['x', 'y', 'z'])\n",
        "  finalDf = pd.concat([principalDf, df['Congestion']], axis = 1)\n",
        "\n",
        "  # Visualize\n",
        "  fig = plt.figure(figsize = (8,8))\n",
        "  ax = plt.axes(projection='3d')\n",
        "  # ax = fig.add_subplot(1,1,1)\n",
        "  ax.set_xlabel('x', fontsize = 15)\n",
        "  ax.set_ylabel('y', fontsize = 15)\n",
        "  ax.set_zlabel('z', fontsize = 15)\n",
        "  ax.set_title('Data visualization\\n', fontsize = 20)\n",
        "\n",
        "  label_dict = {\n",
        "      0: 'No Traffic Jam',\n",
        "      1: 'Traffic Jam',\n",
        "  }\n",
        "\n",
        "  keys = [*label_dict.keys()]\n",
        "  targets = [*label_dict.values()]\n",
        "  colors = ['#FF0000', '#00FF00']\n",
        "  for key, color in zip(keys, colors):\n",
        "    print(key)\n",
        "    indicesToKeep = finalDf['Congestion'] == key\n",
        "    print(indicesToKeep.shape)\n",
        "    ax.scatter3D(finalDf.loc[indicesToKeep, 'x']\n",
        "              , finalDf.loc[indicesToKeep, 'y']\n",
        "              , finalDf.loc[indicesToKeep, 'z']\n",
        "              , c = color\n",
        "                , s = 30)\n",
        "  ax.legend(targets)\n",
        "  ax.grid()\n",
        "\n",
        "  return ax"
      ]
    },
    {
      "cell_type": "markdown",
      "metadata": {
        "id": "JjKhqdyfMBGk"
      },
      "source": [
        "# II. Model"
      ]
    },
    {
      "cell_type": "markdown",
      "metadata": {
        "id": "8n4WZqHI_8tx"
      },
      "source": [
        "### Utils Function"
      ]
    },
    {
      "cell_type": "markdown",
      "metadata": {
        "id": "BYC8m-4oA7vr"
      },
      "source": [
        "#### Display result of training"
      ]
    },
    {
      "cell_type": "code",
      "execution_count": null,
      "metadata": {
        "id": "A4nlUkirBCbF"
      },
      "outputs": [],
      "source": [
        "def displays(history):\n",
        "  # summarize history for accuracy\n",
        "  plt.plot(history.history['accuracy'])\n",
        "  plt.plot(history.history['val_accuracy'])\n",
        "  plt.title('Accuracy')\n",
        "  plt.ylabel('accuracy')\n",
        "  plt.xlabel('epoch')\n",
        "  plt.legend(['train', 'validation'], loc='upper left')\n",
        "  plt.show()\n",
        "  # summarize history for loss\n",
        "  plt.plot(history.history['loss'])\n",
        "  plt.plot(history.history['val_loss'])\n",
        "  plt.title('Loss')\n",
        "  plt.ylabel('loss')\n",
        "  plt.xlabel('epoch')\n",
        "  plt.legend(['train', 'validation'], loc='upper left')\n",
        "  plt.show()"
      ]
    },
    {
      "cell_type": "markdown",
      "metadata": {
        "id": "XfMI4j8F7wJh"
      },
      "source": [
        "#### Save report to csv file"
      ]
    },
    {
      "cell_type": "code",
      "execution_count": null,
      "metadata": {
        "id": "ZeIrkoCs7vDn"
      },
      "outputs": [],
      "source": [
        "def save_classification(y_test, y_binary_pred, out_dir='./report/hdbpe.csv'):\n",
        "  label_dict = {0: 'Congestion', 1: 'No Congestion'}\n",
        "  out = classification_report(y_test,y_binary_pred, output_dict=True)\n",
        "  out_df = pd.DataFrame(out).transpose()\n",
        "  for i in label_dict:\n",
        "    temp = label_dict[i]\n",
        "    out_df.rename(index={str(i): temp}, inplace=True)\n",
        "  out_df.to_csv(out_dir)\n",
        "\n",
        "  return out_df"
      ]
    },
    {
      "cell_type": "markdown",
      "metadata": {
        "id": "m0bBDd6-_Zu1"
      },
      "source": [
        "### Historical Data-Based Probability Estimation"
      ]
    },
    {
      "cell_type": "code",
      "execution_count": null,
      "metadata": {
        "id": "c5cLzaIDNZ_K"
      },
      "outputs": [],
      "source": [
        "from keras import Input, Model\n",
        "from keras.layers import LSTM, Dropout, Dense\n",
        "from keras.optimizers import Adam\n",
        "from keras.regularizers import l1\n",
        "\n",
        "class HDBPEModel(Model):\n",
        "    def __init__(self, num_features, name='HDBPEModel'):\n",
        "#         super.__init__(name=name)\n",
        "        self.num_features = num_features\n",
        "        self.model_name = name\n",
        "\n",
        "    def __call__(self, *args, **kwargs):\n",
        "        inputs = Input(shape=(self.num_features,))\n",
        "        x = Dense(256, activation='relu')(inputs)\n",
        "        x = Dropout(rate=0.1)(x)\n",
        "        x = Dense(128, activation='relu')(x)\n",
        "        x = Dropout(rate=0.1)(x)\n",
        "        x = Dense(64, activation='relu')(x)\n",
        "        x = Dropout(rate=0.1)(x)\n",
        "        outputs = Dense(2, activation='relu')(x)\n",
        "\n",
        "        _model = Model(inputs=inputs, outputs=outputs, name = self.model_name)\n",
        "        _model.summary()\n",
        "\n",
        "        adam = Adam()\n",
        "\n",
        "        _model.compile(\n",
        "            optimizer=adam, loss='binary_crossentropy', metrics=['accuracy']\n",
        "        )\n",
        "\n",
        "        return _model"
      ]
    },
    {
      "cell_type": "code",
      "execution_count": null,
      "metadata": {
        "id": "kZi0OHDLAjFb"
      },
      "outputs": [],
      "source": [
        "def train_evaluate_hdbpe(X_train, X_test, y_train, y_test, historical_checkpoint_path, class_weight=None, out_dir='./report/hdbpe.csv'):\n",
        "  model = HDBPEModel(num_features=X_train.shape[1])\n",
        "  bin_model = model()\n",
        "\n",
        "  historical_callback = ModelCheckpoint(filepath=historical_checkpoint_path,\n",
        "                                        monitor='val_accuracy',\n",
        "                                        mode='max',\n",
        "                                        save_best_only=True)\n",
        "\n",
        "  history = bin_model.fit(X_train, y_train, epochs=20, batch_size=128, class_weight=class_weight,\n",
        "                          validation_split=0.05, callbacks=[historical_callback])\n",
        "\n",
        "  displays(history)\n",
        "  best_model = load_model(historical_checkpoint_path)\n",
        "\n",
        "  y_pred = best_model.predict(X_test)\n",
        "  y_pred = np.argmax(y_pred, axis=1)\n",
        "  print(classification_report(y_true=y_test, y_pred=y_pred))\n",
        "  save_classification(y_test, y_pred, out_dir)"
      ]
    },
    {
      "cell_type": "markdown",
      "metadata": {
        "id": "zZLcEtvM_jm1"
      },
      "source": [
        "### Live Data-Based Probability Estimation"
      ]
    },
    {
      "cell_type": "code",
      "execution_count": null,
      "metadata": {
        "id": "LjPHp1po_zhf"
      },
      "outputs": [],
      "source": [
        "from keras import Input, Model\n",
        "from keras.layers import LSTM, Dropout, Dense\n",
        "from keras.optimizers import Adam\n",
        "from keras.regularizers import l1\n",
        "\n",
        "class LDBPEModel(Model):\n",
        "    def __init__(self, num_features, name='Live Data-Based Probability Estimation Model'):\n",
        "        super(LDBPEModel).__init__()\n",
        "        self.num_features = num_features\n",
        "\n",
        "    def __call__(self, *args, **kwargs):\n",
        "        inputs = Input(shape=(None, self.num_features))\n",
        "        x = LSTM(units=64, kernel_regularizer=l1(0.000001), return_sequences=True, recurrent_dropout=0.1)(inputs)\n",
        "        x = Dropout(rate=0.2)(x)\n",
        "        x = LSTM(units=64, kernel_regularizer=l1(0.000001), return_sequences=True, recurrent_dropout=0.1)(x)\n",
        "        x = Dropout(rate=0.2)(x)\n",
        "        x = LSTM(units=64, kernel_regularizer=l1(0.000001), recurrent_dropout=0.1)(x)\n",
        "        x = Dropout(rate=0.2)(x)\n",
        "        outputs = Dense(2, activation='relu')(x)\n",
        "\n",
        "        _model = Model(inputs=inputs, outputs=outputs)\n",
        "        _model.summary()\n",
        "\n",
        "        adam = Adam(learning_rate=0.001, beta_1=0.9, beta_2=0.999, epsilon=None, decay=0.0, amsgrad=False)\n",
        "\n",
        "        _model.compile(\n",
        "            optimizer=adam, loss='binary_crossentropy', metrics=['accuracy']\n",
        "        )\n",
        "\n",
        "        return _model"
      ]
    },
    {
      "cell_type": "code",
      "execution_count": null,
      "metadata": {
        "id": "CBkEjZNq4A1z"
      },
      "outputs": [],
      "source": [
        "def train_evaluate_ldbpe(df_generator_train, ldbpe_validation_generator, df_generator_test, historical_checkpoint_path, class_weight=None):\n",
        "  model = LDBPEModel(num_features=4)\n",
        "  ldbpe_model = model()\n",
        "\n",
        "  historical_callback = ModelCheckpoint(filepath=historical_checkpoint_path,\n",
        "                                        monitor='val_loss',\n",
        "                                        mode='min',\n",
        "                                        save_best_only=True)\n",
        "\n",
        "  history = ldbpe_model.fit(df_generator_train, epochs=2, validation_data=ldbpe_validation_generator,\n",
        "                                      class_weight=class_weight, callbacks=[historical_callback], steps_per_epoch=100, validation_steps=100)\n",
        "\n",
        "  displays(history)\n",
        "  best_model = load_model(historical_checkpoint_path)\n",
        "\n",
        "  y_pred = best_model.predict(df_generator_test)\n",
        "  y_pred = np.argmax(y_pred, axis=1)\n",
        "  # print(classification_report(y_true=y_test, y_pred=y_pred))\n",
        "  # save_classification(y_test, y_pred)"
      ]
    },
    {
      "cell_type": "markdown",
      "metadata": {
        "id": "ZnO0hd2GBHRy"
      },
      "source": [
        "# III. Imbalanced Class"
      ]
    },
    {
      "cell_type": "markdown",
      "metadata": {
        "id": "DbHpysxmHg-G"
      },
      "source": [
        "## For HDBPE Fine tuning"
      ]
    },
    {
      "cell_type": "code",
      "execution_count": null,
      "metadata": {
        "id": "jFpX7zivRARQ"
      },
      "outputs": [],
      "source": [
        "X_hdbpe_train, X_hdbpe_test, y_hdbpe_train, y_hdbpe_test = train_test_split(X_hdbpe, y_hdbpe, test_size=0.2, random_state=42)"
      ]
    },
    {
      "cell_type": "code",
      "execution_count": null,
      "metadata": {
        "id": "9P3kCeNpQ49q",
        "colab": {
          "base_uri": "https://localhost:8080/",
          "height": 424
        },
        "outputId": "fc726686-883e-477c-fe4b-73ff7e13716b"
      },
      "outputs": [
        {
          "output_type": "display_data",
          "data": {
            "text/plain": [
              "         Timestamp         X         Y  Congestion\n",
              "0         0.000000  0.274855  0.733353           0\n",
              "1         0.000006  0.275370  0.733412           0\n",
              "2         0.000011  0.276777  0.733649           0\n",
              "3         0.000017  0.278981  0.734004           0\n",
              "4         0.000023  0.281983  0.734537           0\n",
              "...            ...       ...       ...         ...\n",
              "2103947   1.000000  0.555853  0.450133           1\n",
              "2103948   1.000000  0.331082  0.566321           1\n",
              "2103949   1.000000  0.561480  0.457650           1\n",
              "2103950   1.000000  0.349090  0.548861           1\n",
              "2103951   1.000000  0.561761  0.461912           1\n",
              "\n",
              "[2103952 rows x 4 columns]"
            ],
            "text/html": [
              "\n",
              "\n",
              "  <div id=\"df-736ca9ce-b327-4a91-bd15-b927c08dc7ee\">\n",
              "    <div class=\"colab-df-container\">\n",
              "      <div>\n",
              "<style scoped>\n",
              "    .dataframe tbody tr th:only-of-type {\n",
              "        vertical-align: middle;\n",
              "    }\n",
              "\n",
              "    .dataframe tbody tr th {\n",
              "        vertical-align: top;\n",
              "    }\n",
              "\n",
              "    .dataframe thead th {\n",
              "        text-align: right;\n",
              "    }\n",
              "</style>\n",
              "<table border=\"1\" class=\"dataframe\">\n",
              "  <thead>\n",
              "    <tr style=\"text-align: right;\">\n",
              "      <th></th>\n",
              "      <th>Timestamp</th>\n",
              "      <th>X</th>\n",
              "      <th>Y</th>\n",
              "      <th>Congestion</th>\n",
              "    </tr>\n",
              "  </thead>\n",
              "  <tbody>\n",
              "    <tr>\n",
              "      <th>0</th>\n",
              "      <td>0.000000</td>\n",
              "      <td>0.274855</td>\n",
              "      <td>0.733353</td>\n",
              "      <td>0</td>\n",
              "    </tr>\n",
              "    <tr>\n",
              "      <th>1</th>\n",
              "      <td>0.000006</td>\n",
              "      <td>0.275370</td>\n",
              "      <td>0.733412</td>\n",
              "      <td>0</td>\n",
              "    </tr>\n",
              "    <tr>\n",
              "      <th>2</th>\n",
              "      <td>0.000011</td>\n",
              "      <td>0.276777</td>\n",
              "      <td>0.733649</td>\n",
              "      <td>0</td>\n",
              "    </tr>\n",
              "    <tr>\n",
              "      <th>3</th>\n",
              "      <td>0.000017</td>\n",
              "      <td>0.278981</td>\n",
              "      <td>0.734004</td>\n",
              "      <td>0</td>\n",
              "    </tr>\n",
              "    <tr>\n",
              "      <th>4</th>\n",
              "      <td>0.000023</td>\n",
              "      <td>0.281983</td>\n",
              "      <td>0.734537</td>\n",
              "      <td>0</td>\n",
              "    </tr>\n",
              "    <tr>\n",
              "      <th>...</th>\n",
              "      <td>...</td>\n",
              "      <td>...</td>\n",
              "      <td>...</td>\n",
              "      <td>...</td>\n",
              "    </tr>\n",
              "    <tr>\n",
              "      <th>2103947</th>\n",
              "      <td>1.000000</td>\n",
              "      <td>0.555853</td>\n",
              "      <td>0.450133</td>\n",
              "      <td>1</td>\n",
              "    </tr>\n",
              "    <tr>\n",
              "      <th>2103948</th>\n",
              "      <td>1.000000</td>\n",
              "      <td>0.331082</td>\n",
              "      <td>0.566321</td>\n",
              "      <td>1</td>\n",
              "    </tr>\n",
              "    <tr>\n",
              "      <th>2103949</th>\n",
              "      <td>1.000000</td>\n",
              "      <td>0.561480</td>\n",
              "      <td>0.457650</td>\n",
              "      <td>1</td>\n",
              "    </tr>\n",
              "    <tr>\n",
              "      <th>2103950</th>\n",
              "      <td>1.000000</td>\n",
              "      <td>0.349090</td>\n",
              "      <td>0.548861</td>\n",
              "      <td>1</td>\n",
              "    </tr>\n",
              "    <tr>\n",
              "      <th>2103951</th>\n",
              "      <td>1.000000</td>\n",
              "      <td>0.561761</td>\n",
              "      <td>0.461912</td>\n",
              "      <td>1</td>\n",
              "    </tr>\n",
              "  </tbody>\n",
              "</table>\n",
              "<p>2103952 rows × 4 columns</p>\n",
              "</div>\n",
              "      <button class=\"colab-df-convert\" onclick=\"convertToInteractive('df-736ca9ce-b327-4a91-bd15-b927c08dc7ee')\"\n",
              "              title=\"Convert this dataframe to an interactive table.\"\n",
              "              style=\"display:none;\">\n",
              "\n",
              "  <svg xmlns=\"http://www.w3.org/2000/svg\" height=\"24px\"viewBox=\"0 0 24 24\"\n",
              "       width=\"24px\">\n",
              "    <path d=\"M0 0h24v24H0V0z\" fill=\"none\"/>\n",
              "    <path d=\"M18.56 5.44l.94 2.06.94-2.06 2.06-.94-2.06-.94-.94-2.06-.94 2.06-2.06.94zm-11 1L8.5 8.5l.94-2.06 2.06-.94-2.06-.94L8.5 2.5l-.94 2.06-2.06.94zm10 10l.94 2.06.94-2.06 2.06-.94-2.06-.94-.94-2.06-.94 2.06-2.06.94z\"/><path d=\"M17.41 7.96l-1.37-1.37c-.4-.4-.92-.59-1.43-.59-.52 0-1.04.2-1.43.59L10.3 9.45l-7.72 7.72c-.78.78-.78 2.05 0 2.83L4 21.41c.39.39.9.59 1.41.59.51 0 1.02-.2 1.41-.59l7.78-7.78 2.81-2.81c.8-.78.8-2.07 0-2.86zM5.41 20L4 18.59l7.72-7.72 1.47 1.35L5.41 20z\"/>\n",
              "  </svg>\n",
              "      </button>\n",
              "\n",
              "\n",
              "\n",
              "    <div id=\"df-376f7428-ce24-4725-a734-c0ac2131d7f9\">\n",
              "      <button class=\"colab-df-quickchart\" onclick=\"quickchart('df-376f7428-ce24-4725-a734-c0ac2131d7f9')\"\n",
              "              title=\"Suggest charts.\"\n",
              "              style=\"display:none;\">\n",
              "\n",
              "<svg xmlns=\"http://www.w3.org/2000/svg\" height=\"24px\"viewBox=\"0 0 24 24\"\n",
              "     width=\"24px\">\n",
              "    <g>\n",
              "        <path d=\"M19 3H5c-1.1 0-2 .9-2 2v14c0 1.1.9 2 2 2h14c1.1 0 2-.9 2-2V5c0-1.1-.9-2-2-2zM9 17H7v-7h2v7zm4 0h-2V7h2v10zm4 0h-2v-4h2v4z\"/>\n",
              "    </g>\n",
              "</svg>\n",
              "      </button>\n",
              "    </div>\n",
              "\n",
              "<style>\n",
              "  .colab-df-quickchart {\n",
              "    background-color: #E8F0FE;\n",
              "    border: none;\n",
              "    border-radius: 50%;\n",
              "    cursor: pointer;\n",
              "    display: none;\n",
              "    fill: #1967D2;\n",
              "    height: 32px;\n",
              "    padding: 0 0 0 0;\n",
              "    width: 32px;\n",
              "  }\n",
              "\n",
              "  .colab-df-quickchart:hover {\n",
              "    background-color: #E2EBFA;\n",
              "    box-shadow: 0px 1px 2px rgba(60, 64, 67, 0.3), 0px 1px 3px 1px rgba(60, 64, 67, 0.15);\n",
              "    fill: #174EA6;\n",
              "  }\n",
              "\n",
              "  [theme=dark] .colab-df-quickchart {\n",
              "    background-color: #3B4455;\n",
              "    fill: #D2E3FC;\n",
              "  }\n",
              "\n",
              "  [theme=dark] .colab-df-quickchart:hover {\n",
              "    background-color: #434B5C;\n",
              "    box-shadow: 0px 1px 3px 1px rgba(0, 0, 0, 0.15);\n",
              "    filter: drop-shadow(0px 1px 2px rgba(0, 0, 0, 0.3));\n",
              "    fill: #FFFFFF;\n",
              "  }\n",
              "</style>\n",
              "\n",
              "    <script>\n",
              "      async function quickchart(key) {\n",
              "        const containerElement = document.querySelector('#' + key);\n",
              "        const charts = await google.colab.kernel.invokeFunction(\n",
              "            'suggestCharts', [key], {});\n",
              "      }\n",
              "    </script>\n",
              "\n",
              "      <script>\n",
              "\n",
              "function displayQuickchartButton(domScope) {\n",
              "  let quickchartButtonEl =\n",
              "    domScope.querySelector('#df-376f7428-ce24-4725-a734-c0ac2131d7f9 button.colab-df-quickchart');\n",
              "  quickchartButtonEl.style.display =\n",
              "    google.colab.kernel.accessAllowed ? 'block' : 'none';\n",
              "}\n",
              "\n",
              "        displayQuickchartButton(document);\n",
              "      </script>\n",
              "      <style>\n",
              "    .colab-df-container {\n",
              "      display:flex;\n",
              "      flex-wrap:wrap;\n",
              "      gap: 12px;\n",
              "    }\n",
              "\n",
              "    .colab-df-convert {\n",
              "      background-color: #E8F0FE;\n",
              "      border: none;\n",
              "      border-radius: 50%;\n",
              "      cursor: pointer;\n",
              "      display: none;\n",
              "      fill: #1967D2;\n",
              "      height: 32px;\n",
              "      padding: 0 0 0 0;\n",
              "      width: 32px;\n",
              "    }\n",
              "\n",
              "    .colab-df-convert:hover {\n",
              "      background-color: #E2EBFA;\n",
              "      box-shadow: 0px 1px 2px rgba(60, 64, 67, 0.3), 0px 1px 3px 1px rgba(60, 64, 67, 0.15);\n",
              "      fill: #174EA6;\n",
              "    }\n",
              "\n",
              "    [theme=dark] .colab-df-convert {\n",
              "      background-color: #3B4455;\n",
              "      fill: #D2E3FC;\n",
              "    }\n",
              "\n",
              "    [theme=dark] .colab-df-convert:hover {\n",
              "      background-color: #434B5C;\n",
              "      box-shadow: 0px 1px 3px 1px rgba(0, 0, 0, 0.15);\n",
              "      filter: drop-shadow(0px 1px 2px rgba(0, 0, 0, 0.3));\n",
              "      fill: #FFFFFF;\n",
              "    }\n",
              "  </style>\n",
              "\n",
              "      <script>\n",
              "        const buttonEl =\n",
              "          document.querySelector('#df-736ca9ce-b327-4a91-bd15-b927c08dc7ee button.colab-df-convert');\n",
              "        buttonEl.style.display =\n",
              "          google.colab.kernel.accessAllowed ? 'block' : 'none';\n",
              "\n",
              "        async function convertToInteractive(key) {\n",
              "          const element = document.querySelector('#df-736ca9ce-b327-4a91-bd15-b927c08dc7ee');\n",
              "          const dataTable =\n",
              "            await google.colab.kernel.invokeFunction('convertToInteractive',\n",
              "                                                     [key], {});\n",
              "          if (!dataTable) return;\n",
              "\n",
              "          const docLinkHtml = 'Like what you see? Visit the ' +\n",
              "            '<a target=\"_blank\" href=https://colab.research.google.com/notebooks/data_table.ipynb>data table notebook</a>'\n",
              "            + ' to learn more about interactive tables.';\n",
              "          element.innerHTML = '';\n",
              "          dataTable['output_type'] = 'display_data';\n",
              "          await google.colab.output.renderOutput(dataTable, element);\n",
              "          const docLink = document.createElement('div');\n",
              "          docLink.innerHTML = docLinkHtml;\n",
              "          element.appendChild(docLink);\n",
              "        }\n",
              "      </script>\n",
              "    </div>\n",
              "  </div>\n"
            ]
          },
          "metadata": {}
        }
      ],
      "source": [
        "display(hdbpe_data)"
      ]
    },
    {
      "cell_type": "markdown",
      "metadata": {
        "id": "a4kvW7jRN4aS"
      },
      "source": [
        "### No sampling"
      ]
    },
    {
      "cell_type": "code",
      "execution_count": null,
      "metadata": {
        "colab": {
          "base_uri": "https://localhost:8080/",
          "height": 1000
        },
        "id": "ixe1xTnRCC-1",
        "outputId": "e61f81d9-df56-4941-94aa-3226c3b798c9"
      },
      "outputs": [
        {
          "name": "stdout",
          "output_type": "stream",
          "text": [
            "Model: \"HDBPEModel\"\n",
            "_________________________________________________________________\n",
            " Layer (type)                Output Shape              Param #   \n",
            "=================================================================\n",
            " input_2 (InputLayer)        [(None, 3)]               0         \n",
            "                                                                 \n",
            " dense_1 (Dense)             (None, 128)               512       \n",
            "                                                                 \n",
            " dropout_3 (Dropout)         (None, 128)               0         \n",
            "                                                                 \n",
            " dense_2 (Dense)             (None, 64)                8256      \n",
            "                                                                 \n",
            " dropout_4 (Dropout)         (None, 64)                0         \n",
            "                                                                 \n",
            " dense_3 (Dense)             (None, 2)                 130       \n",
            "                                                                 \n",
            "=================================================================\n",
            "Total params: 8,898\n",
            "Trainable params: 8,898\n",
            "Non-trainable params: 0\n",
            "_________________________________________________________________\n",
            "Epoch 1/20\n",
            "12493/12493 [==============================] - 37s 3ms/step - loss: 0.4336 - accuracy: 0.5887 - val_loss: 0.2623 - val_accuracy: 0.3424\n",
            "Epoch 2/20\n",
            "12493/12493 [==============================] - 38s 3ms/step - loss: 0.3275 - accuracy: 0.5583 - val_loss: 0.3038 - val_accuracy: 0.8963\n",
            "Epoch 3/20\n",
            "12493/12493 [==============================] - 37s 3ms/step - loss: 0.3593 - accuracy: 0.6080 - val_loss: 0.2304 - val_accuracy: 0.4905\n",
            "Epoch 4/20\n",
            "12493/12493 [==============================] - 36s 3ms/step - loss: 0.5791 - accuracy: 0.5617 - val_loss: 0.2408 - val_accuracy: 0.4736\n",
            "Epoch 5/20\n",
            "12493/12493 [==============================] - 37s 3ms/step - loss: 0.2770 - accuracy: 0.5814 - val_loss: 0.2064 - val_accuracy: 0.3497\n",
            "Epoch 6/20\n",
            "12493/12493 [==============================] - 48s 4ms/step - loss: 0.2386 - accuracy: 0.4909 - val_loss: 0.1959 - val_accuracy: 0.3435\n",
            "Epoch 7/20\n",
            "12493/12493 [==============================] - 38s 3ms/step - loss: 0.2230 - accuracy: 0.5016 - val_loss: 0.1706 - val_accuracy: 0.3484\n",
            "Epoch 8/20\n",
            "12493/12493 [==============================] - 36s 3ms/step - loss: 0.4666 - accuracy: 0.5364 - val_loss: 0.1758 - val_accuracy: 0.3222\n",
            "Epoch 9/20\n",
            "12493/12493 [==============================] - 37s 3ms/step - loss: 0.1984 - accuracy: 0.5065 - val_loss: 0.1538 - val_accuracy: 0.3333\n",
            "Epoch 10/20\n",
            "12493/12493 [==============================] - 37s 3ms/step - loss: 0.1728 - accuracy: 0.5345 - val_loss: 0.1425 - val_accuracy: 0.3366\n",
            "Epoch 11/20\n",
            "12493/12493 [==============================] - 37s 3ms/step - loss: 0.1721 - accuracy: 0.6374 - val_loss: 0.1417 - val_accuracy: 0.4877\n",
            "Epoch 12/20\n",
            "12493/12493 [==============================] - 36s 3ms/step - loss: 0.1534 - accuracy: 0.6201 - val_loss: 0.1420 - val_accuracy: 0.7868\n",
            "Epoch 13/20\n",
            "12493/12493 [==============================] - 37s 3ms/step - loss: 0.1583 - accuracy: 0.6313 - val_loss: 0.1409 - val_accuracy: 0.4438\n",
            "Epoch 14/20\n",
            "12493/12493 [==============================] - 37s 3ms/step - loss: 0.1549 - accuracy: 0.6547 - val_loss: 0.1409 - val_accuracy: 0.9587\n",
            "Epoch 15/20\n",
            "12493/12493 [==============================] - 37s 3ms/step - loss: 0.1613 - accuracy: 0.6139 - val_loss: 0.1370 - val_accuracy: 0.3860\n",
            "Epoch 16/20\n",
            "12493/12493 [==============================] - 38s 3ms/step - loss: 0.1643 - accuracy: 0.6172 - val_loss: 0.1344 - val_accuracy: 0.8172\n",
            "Epoch 17/20\n",
            "12493/12493 [==============================] - 36s 3ms/step - loss: 0.1626 - accuracy: 0.6661 - val_loss: 0.1649 - val_accuracy: 0.9037\n",
            "Epoch 18/20\n",
            "12493/12493 [==============================] - 37s 3ms/step - loss: 0.1711 - accuracy: 0.6312 - val_loss: 0.1708 - val_accuracy: 0.9167\n",
            "Epoch 19/20\n",
            "12493/12493 [==============================] - 35s 3ms/step - loss: 0.1674 - accuracy: 0.6553 - val_loss: 0.1396 - val_accuracy: 0.4079\n",
            "Epoch 20/20\n",
            "12493/12493 [==============================] - 37s 3ms/step - loss: 0.1690 - accuracy: 0.5514 - val_loss: 0.1498 - val_accuracy: 0.8942\n"
          ]
        },
        {
          "data": {
            "image/png": "[encoded data removed]",
            "text/plain": [
              "<Figure size 640x480 with 1 Axes>"
            ]
          },
          "metadata": {},
          "output_type": "display_data"
        },
        {
          "data": {
            "image/png": "[encoded data removed]",
            "text/plain": [
              "<Figure size 640x480 with 1 Axes>"
            ]
          },
          "metadata": {},
          "output_type": "display_data"
        },
        {
          "name": "stdout",
          "output_type": "stream",
          "text": [
            "13150/13150 [==============================] - 19s 1ms/step\n",
            "              precision    recall  f1-score   support\n",
            "\n",
            "           0       0.68      0.92      0.78    148534\n",
            "           1       0.94      0.76      0.84    272257\n",
            "\n",
            "    accuracy                           0.82    420791\n",
            "   macro avg       0.81      0.84      0.81    420791\n",
            "weighted avg       0.85      0.82      0.82    420791\n",
            "\n"
          ]
        }
      ],
      "source": [
        "historical_checkpoint_path = './trained/best_historical_model.model'\n",
        "train_evaluate_hdbpe(X_hdbpe_train, X_hdbpe_test, y_hdbpe_train, y_hdbpe_test, historical_checkpoint_path)"
      ]
    },
    {
      "cell_type": "markdown",
      "metadata": {
        "id": "v-LCSto7MItm"
      },
      "source": [
        "### Undersampling"
      ]
    },
    {
      "cell_type": "code",
      "execution_count": null,
      "metadata": {
        "id": "4euyyM4itCKY"
      },
      "outputs": [],
      "source": [
        "from imblearn.under_sampling import RandomUnderSampler\n",
        "rus = RandomUnderSampler(random_state=0)\n",
        "\n",
        "X_under, y_under = rus.fit_resample(X_hdbpe, y_hdbpe)\n",
        "# Plot class after undersampling\n",
        "y_under.value_counts().plot.bar(rot=0)\n",
        "X_under_train, X_under_test, y_under_train, y_under_test = train_test_split(X_under, y_under, test_size=0.2, random_state=42)"
      ]
    },
    {
      "cell_type": "code",
      "execution_count": null,
      "metadata": {
        "id": "mMiv7x7MtnxN"
      },
      "outputs": [],
      "source": [
        "# Train\n",
        "historical_checkpoint_path = './best_model/best_historical_under_model.model'\n",
        "train_evaluate_hdbpe(X_under_train, X_under_test, y_under_train, y_under_test, historical_checkpoint_path)"
      ]
    },
    {
      "cell_type": "markdown",
      "metadata": {
        "id": "vpAqn8JRMP9B"
      },
      "source": [
        "### Oversampling"
      ]
    },
    {
      "cell_type": "code",
      "execution_count": null,
      "metadata": {
        "id": "Pl37S9sZNsOw"
      },
      "outputs": [],
      "source": [
        "from imblearn.over_sampling import SMOTE\n",
        "\n",
        "smote = SMOTE()\n",
        "\n",
        "X_over, y_over = smote.fit_resample(X, y)\n",
        "y_over.value_counts().plot.bar(rot=0)\n",
        "X_over_train, X_over_test, y_over_train, y_over_test = train_test_split(X_over, y_over, test_size=0.2, random_state=42)"
      ]
    },
    {
      "cell_type": "code",
      "execution_count": null,
      "metadata": {
        "id": "aPmpCLEKUk0a"
      },
      "outputs": [],
      "source": [
        "# Train\n",
        "historical_checkpoint_path = './best_model/best_historical_over_model.model'\n",
        "train_evaluate_hdbpe(X_over_train, X_over_test, y_over_train, y_over_test, historical_checkpoint_path)"
      ]
    },
    {
      "cell_type": "markdown",
      "metadata": {
        "id": "KQxQ9VOcMSuO"
      },
      "source": [
        "### Hybridsampling"
      ]
    },
    {
      "cell_type": "code",
      "execution_count": null,
      "metadata": {
        "colab": {
          "base_uri": "https://localhost:8080/",
          "height": 445
        },
        "id": "bSavz78tt8N8",
        "outputId": "08e45f93-3475-426a-bd06-8612ea1fc5a1"
      },
      "outputs": [
        {
          "output_type": "display_data",
          "data": {
            "text/plain": [
              "<Figure size 640x480 with 1 Axes>"
            ],
            "image/png": "[encoded data removed]"
          },
          "metadata": {}
        }
      ],
      "source": [
        "from imblearn.combine import SMOTEENN\n",
        "smote_enn = SMOTEENN(random_state=2023)\n",
        "\n",
        "X_hdbpe_hybrid, y_hdbpe_hybrid = smote_enn.fit_resample(X_hdbpe, y_hdbpe)\n",
        "y_hdbpe_hybrid.value_counts().plot.bar(rot=0)\n",
        "X_hdbpe_hybrid_train, X_hdbpe_hybrid_test, y_hdbpe_hybrid_train, y_hdbpe_hybrid_test = train_test_split(X_hdbpe_hybrid, y_hdbpe_hybrid, test_size=0.2, random_state=42)"
      ]
    },
    {
      "cell_type": "code",
      "execution_count": null,
      "metadata": {
        "colab": {
          "base_uri": "https://localhost:8080/"
        },
        "id": "gp_BQhBaxrIT",
        "outputId": "e206b1b5-71a1-43cd-cbeb-bf12011eb924"
      },
      "outputs": [
        {
          "output_type": "execute_result",
          "data": {
            "text/plain": [
              "1    1360176\n",
              "0     743776\n",
              "Name: Congestion, dtype: int64"
            ]
          },
          "metadata": {},
          "execution_count": 47
        }
      ],
      "source": [
        "y_hdbpe.value_counts()"
      ]
    },
    {
      "cell_type": "code",
      "execution_count": null,
      "metadata": {
        "colab": {
          "base_uri": "https://localhost:8080/"
        },
        "id": "vrSH-I61vrxr",
        "outputId": "c11cb003-d653-4e46-f2f2-a755b7a42b0f"
      },
      "outputs": [
        {
          "output_type": "execute_result",
          "data": {
            "text/plain": [
              "1    1357238\n",
              "0    1341326\n",
              "Name: Congestion, dtype: int64"
            ]
          },
          "metadata": {},
          "execution_count": 48
        }
      ],
      "source": [
        "y_hdbpe_hybrid.value_counts()"
      ]
    },
    {
      "cell_type": "code",
      "execution_count": null,
      "metadata": {
        "id": "wIN4qIrhxopJ",
        "colab": {
          "base_uri": "https://localhost:8080/",
          "height": 1000
        },
        "outputId": "31713dbb-a23a-408a-de57-ea21348ea859"
      },
      "outputs": [
        {
          "output_type": "stream",
          "name": "stdout",
          "text": [
            "Model: \"HDBPEModel\"\n",
            "_________________________________________________________________\n",
            " Layer (type)                Output Shape              Param #   \n",
            "=================================================================\n",
            " input_4 (InputLayer)        [(None, 3)]               0         \n",
            "                                                                 \n",
            " dense_12 (Dense)            (None, 256)               1024      \n",
            "                                                                 \n",
            " dropout_9 (Dropout)         (None, 256)               0         \n",
            "                                                                 \n",
            " dense_13 (Dense)            (None, 128)               32896     \n",
            "                                                                 \n",
            " dropout_10 (Dropout)        (None, 128)               0         \n",
            "                                                                 \n",
            " dense_14 (Dense)            (None, 64)                8256      \n",
            "                                                                 \n",
            " dropout_11 (Dropout)        (None, 64)                0         \n",
            "                                                                 \n",
            " dense_15 (Dense)            (None, 2)                 130       \n",
            "                                                                 \n",
            "=================================================================\n",
            "Total params: 42,306\n",
            "Trainable params: 42,306\n",
            "Non-trainable params: 0\n",
            "_________________________________________________________________\n",
            "Epoch 1/20\n",
            "16023/16023 [==============================] - 122s 8ms/step - loss: 0.3772 - accuracy: 0.6746 - val_loss: 0.3233 - val_accuracy: 0.4861\n",
            "Epoch 2/20\n",
            "16023/16023 [==============================] - 120s 7ms/step - loss: 0.3413 - accuracy: 0.6617 - val_loss: 0.2385 - val_accuracy: 0.4942\n",
            "Epoch 3/20\n",
            "16023/16023 [==============================] - 113s 7ms/step - loss: 0.2510 - accuracy: 0.6556 - val_loss: 0.1543 - val_accuracy: 0.5623\n",
            "Epoch 4/20\n",
            "16023/16023 [==============================] - 106s 7ms/step - loss: 0.2663 - accuracy: 0.6860 - val_loss: 0.1649 - val_accuracy: 0.9379\n",
            "Epoch 5/20\n",
            "16023/16023 [==============================] - 102s 6ms/step - loss: 0.2146 - accuracy: 0.6668 - val_loss: 0.1614 - val_accuracy: 0.4735\n",
            "Epoch 6/20\n",
            "16023/16023 [==============================] - 102s 6ms/step - loss: 0.1759 - accuracy: 0.6470 - val_loss: 0.1250 - val_accuracy: 0.7939\n",
            "Epoch 7/20\n",
            "16023/16023 [==============================] - 108s 7ms/step - loss: 0.1693 - accuracy: 0.7072 - val_loss: 0.1275 - val_accuracy: 0.5805\n",
            "Epoch 8/20\n",
            "16023/16023 [==============================] - 108s 7ms/step - loss: 0.1750 - accuracy: 0.7245 - val_loss: 0.1253 - val_accuracy: 0.7515\n",
            "Epoch 9/20\n",
            "16023/16023 [==============================] - 104s 7ms/step - loss: 0.3873 - accuracy: 0.7090 - val_loss: 0.4204 - val_accuracy: 0.5827\n",
            "Epoch 10/20\n",
            "16023/16023 [==============================] - 106s 7ms/step - loss: 0.4373 - accuracy: 0.7177 - val_loss: 0.4381 - val_accuracy: 0.8554\n",
            "Epoch 11/20\n",
            "16023/16023 [==============================] - 105s 7ms/step - loss: 0.4517 - accuracy: 0.6899 - val_loss: 0.4484 - val_accuracy: 0.5750\n",
            "Epoch 12/20\n",
            "16023/16023 [==============================] - 104s 7ms/step - loss: 0.4326 - accuracy: 0.7075 - val_loss: 0.4330 - val_accuracy: 0.8445\n",
            "Epoch 13/20\n",
            "16023/16023 [==============================] - 100s 6ms/step - loss: 0.4400 - accuracy: 0.7240 - val_loss: 0.5874 - val_accuracy: 0.4942\n",
            "Epoch 14/20\n",
            "16023/16023 [==============================] - 104s 6ms/step - loss: 0.4378 - accuracy: 0.7056 - val_loss: 0.4271 - val_accuracy: 0.9324\n",
            "Epoch 15/20\n",
            "16023/16023 [==============================] - 101s 6ms/step - loss: 0.4358 - accuracy: 0.7221 - val_loss: 0.4641 - val_accuracy: 0.5686\n",
            "Epoch 16/20\n",
            "16023/16023 [==============================] - 103s 6ms/step - loss: 0.4820 - accuracy: 0.7515 - val_loss: 0.4328 - val_accuracy: 0.9316\n",
            "Epoch 17/20\n",
            "16023/16023 [==============================] - 103s 6ms/step - loss: 0.4372 - accuracy: 0.7285 - val_loss: 0.4452 - val_accuracy: 0.9248\n",
            "Epoch 18/20\n",
            "16023/16023 [==============================] - 103s 6ms/step - loss: 0.4324 - accuracy: 0.6753 - val_loss: 0.4248 - val_accuracy: 0.5540\n",
            "Epoch 19/20\n",
            "16023/16023 [==============================] - 101s 6ms/step - loss: 0.4355 - accuracy: 0.7474 - val_loss: 0.4351 - val_accuracy: 0.8306\n",
            "Epoch 20/20\n",
            "16023/16023 [==============================] - 100s 6ms/step - loss: 0.4357 - accuracy: 0.7391 - val_loss: 0.4485 - val_accuracy: 0.5767\n"
          ]
        },
        {
          "output_type": "display_data",
          "data": {
            "text/plain": [
              "<Figure size 640x480 with 1 Axes>"
            ],
            "image/png": "[encoded data removed]"
          },
          "metadata": {}
        },
        {
          "output_type": "display_data",
          "data": {
            "text/plain": [
              "<Figure size 640x480 with 1 Axes>"
            ],
            "image/png": "[encoded data removed]"
          },
          "metadata": {}
        },
        {
          "output_type": "stream",
          "name": "stdout",
          "text": [
            "16867/16867 [==============================] - 28s 2ms/step\n",
            "              precision    recall  f1-score   support\n",
            "\n",
            "           0       0.99      0.88      0.93    268035\n",
            "           1       0.90      0.99      0.94    271678\n",
            "\n",
            "    accuracy                           0.94    539713\n",
            "   macro avg       0.94      0.94      0.94    539713\n",
            "weighted avg       0.94      0.94      0.94    539713\n",
            "\n"
          ]
        }
      ],
      "source": [
        "historical_checkpoint_path = './best_model/best_historical_hybird_model.model'\n",
        "train_evaluate_hdbpe(X_hdbpe_hybrid_train, X_hdbpe_hybrid_test, y_hdbpe_hybrid_train, y_hdbpe_hybrid_test, historical_checkpoint_path, out_dir = './report/hdbpe_hybrid.csv')"
      ]
    },
    {
      "cell_type": "markdown",
      "metadata": {
        "id": "w_Nf7fQCMWHf"
      },
      "source": [
        "### Cost-sentitive"
      ]
    },
    {
      "cell_type": "code",
      "execution_count": null,
      "metadata": {
        "id": "ca1I9hgJ0w1I"
      },
      "outputs": [],
      "source": [
        "import collections\n",
        "import math\n",
        "\n",
        "def create_class_weight(labels_dict, mu):\n",
        "    \"\"\"Create weight based on the number of domain name in the dataset\"\"\"\n",
        "    total = np.sum(list(labels_dict.values()))\n",
        "    keys = labels_dict.keys()\n",
        "    class_weight = dict()\n",
        "\n",
        "    for key in keys:\n",
        "        score = math.pow(total / float(labels_dict[key]), mu)\n",
        "        class_weight[key] = score\n",
        "\n",
        "    return class_weight"
      ]
    },
    {
      "cell_type": "code",
      "execution_count": null,
      "metadata": {
        "id": "tuMEWQso014_"
      },
      "outputs": [],
      "source": [
        "labels_dict = collections.Counter(y_hdbpe_train)\n",
        "# Create class weight\n",
        "class_weight = create_class_weight(labels_dict=labels_dict, mu=0.8)"
      ]
    },
    {
      "cell_type": "code",
      "execution_count": null,
      "metadata": {
        "colab": {
          "base_uri": "https://localhost:8080/",
          "height": 1000
        },
        "id": "ehf2XLYH0-GN",
        "outputId": "76443135-1e19-4391-ea9b-7ea529f0199b"
      },
      "outputs": [
        {
          "output_type": "stream",
          "name": "stdout",
          "text": [
            "Model: \"HDBPEModel\"\n",
            "_________________________________________________________________\n",
            " Layer (type)                Output Shape              Param #   \n",
            "=================================================================\n",
            " input_5 (InputLayer)        [(None, 3)]               0         \n",
            "                                                                 \n",
            " dense_16 (Dense)            (None, 256)               1024      \n",
            "                                                                 \n",
            " dropout_12 (Dropout)        (None, 256)               0         \n",
            "                                                                 \n",
            " dense_17 (Dense)            (None, 128)               32896     \n",
            "                                                                 \n",
            " dropout_13 (Dropout)        (None, 128)               0         \n",
            "                                                                 \n",
            " dense_18 (Dense)            (None, 64)                8256      \n",
            "                                                                 \n",
            " dropout_14 (Dropout)        (None, 64)                0         \n",
            "                                                                 \n",
            " dense_19 (Dense)            (None, 2)                 130       \n",
            "                                                                 \n",
            "=================================================================\n",
            "Total params: 42,306\n",
            "Trainable params: 42,306\n",
            "Non-trainable params: 0\n",
            "_________________________________________________________________\n",
            "Epoch 1/20\n",
            "12493/12493 [==============================] - 81s 6ms/step - loss: 5.8741 - accuracy: 0.5082 - val_loss: 0.2568 - val_accuracy: 0.3365\n",
            "Epoch 2/20\n",
            "12493/12493 [==============================] - 81s 6ms/step - loss: 0.5599 - accuracy: 0.6408 - val_loss: 0.2201 - val_accuracy: 0.4056\n",
            "Epoch 3/20\n",
            "12493/12493 [==============================] - 84s 7ms/step - loss: 0.5841 - accuracy: 0.6350 - val_loss: 0.2042 - val_accuracy: 0.9236\n",
            "Epoch 4/20\n",
            "12493/12493 [==============================] - 80s 6ms/step - loss: 0.4294 - accuracy: 0.6487 - val_loss: 0.2000 - val_accuracy: 0.9542\n",
            "Epoch 5/20\n",
            "12493/12493 [==============================] - 83s 7ms/step - loss: 0.4482 - accuracy: 0.6933 - val_loss: 0.1628 - val_accuracy: 0.9539\n",
            "Epoch 6/20\n",
            "12493/12493 [==============================] - 79s 6ms/step - loss: 0.3285 - accuracy: 0.7494 - val_loss: 0.1516 - val_accuracy: 0.8382\n",
            "Epoch 7/20\n",
            "12493/12493 [==============================] - 82s 7ms/step - loss: 0.4399 - accuracy: 0.7008 - val_loss: 0.1441 - val_accuracy: 0.9192\n",
            "Epoch 8/20\n",
            "12493/12493 [==============================] - 82s 7ms/step - loss: 0.3270 - accuracy: 0.6436 - val_loss: 0.1662 - val_accuracy: 0.7949\n",
            "Epoch 9/20\n",
            "12493/12493 [==============================] - 81s 6ms/step - loss: 0.3190 - accuracy: 0.6527 - val_loss: 0.1529 - val_accuracy: 0.4991\n",
            "Epoch 10/20\n",
            "12493/12493 [==============================] - 80s 6ms/step - loss: 0.3074 - accuracy: 0.6477 - val_loss: 0.1543 - val_accuracy: 0.8638\n",
            "Epoch 11/20\n",
            "12493/12493 [==============================] - 79s 6ms/step - loss: 0.3070 - accuracy: 0.6656 - val_loss: 0.1934 - val_accuracy: 0.9286\n",
            "Epoch 12/20\n",
            "12493/12493 [==============================] - 80s 6ms/step - loss: 0.3209 - accuracy: 0.6596 - val_loss: 0.1488 - val_accuracy: 0.9613\n",
            "Epoch 13/20\n",
            "12493/12493 [==============================] - 81s 6ms/step - loss: 0.2988 - accuracy: 0.6231 - val_loss: 0.1875 - val_accuracy: 0.9312\n",
            "Epoch 14/20\n",
            "12493/12493 [==============================] - 80s 6ms/step - loss: 0.3299 - accuracy: 0.6576 - val_loss: 0.1381 - val_accuracy: 0.3707\n",
            "Epoch 15/20\n",
            "12493/12493 [==============================] - 78s 6ms/step - loss: 0.3149 - accuracy: 0.6584 - val_loss: 0.1759 - val_accuracy: 0.8811\n",
            "Epoch 16/20\n",
            "12493/12493 [==============================] - 80s 6ms/step - loss: 0.3250 - accuracy: 0.7038 - val_loss: 0.1610 - val_accuracy: 0.6009\n",
            "Epoch 17/20\n",
            "12493/12493 [==============================] - 80s 6ms/step - loss: 0.3170 - accuracy: 0.6879 - val_loss: 0.2862 - val_accuracy: 0.8263\n",
            "Epoch 18/20\n",
            "12493/12493 [==============================] - 81s 6ms/step - loss: 0.3640 - accuracy: 0.6762 - val_loss: 0.1524 - val_accuracy: 0.8492\n",
            "Epoch 19/20\n",
            "12493/12493 [==============================] - 78s 6ms/step - loss: 0.3329 - accuracy: 0.6640 - val_loss: 0.1512 - val_accuracy: 0.3599\n",
            "Epoch 20/20\n",
            "12493/12493 [==============================] - 80s 6ms/step - loss: 0.3167 - accuracy: 0.5858 - val_loss: 0.1565 - val_accuracy: 0.8721\n"
          ]
        },
        {
          "output_type": "display_data",
          "data": {
            "text/plain": [
              "<Figure size 640x480 with 1 Axes>"
            ],
            "image/png": "[encoded data removed]"
          },
          "metadata": {}
        },
        {
          "output_type": "display_data",
          "data": {
            "text/plain": [
              "<Figure size 640x480 with 1 Axes>"
            ],
            "image/png": "[encoded data removed]"
          },
          "metadata": {}
        },
        {
          "output_type": "stream",
          "name": "stdout",
          "text": [
            "13150/13150 [==============================] - 21s 2ms/step\n",
            "              precision    recall  f1-score   support\n",
            "\n",
            "           0       0.96      0.93      0.94    148534\n",
            "           1       0.96      0.98      0.97    272257\n",
            "\n",
            "    accuracy                           0.96    420791\n",
            "   macro avg       0.96      0.95      0.96    420791\n",
            "weighted avg       0.96      0.96      0.96    420791\n",
            "\n"
          ]
        }
      ],
      "source": [
        "historical_checkpoint_path = './best_model/best_historical_cost_model.model'\n",
        "train_evaluate_hdbpe(X_hdbpe_train, X_hdbpe_test, y_hdbpe_train, y_hdbpe_test, historical_checkpoint_path, class_weight, './report/hdbpe_cost_sentitive.csv')"
      ]
    },
    {
      "cell_type": "markdown",
      "metadata": {
        "id": "HdpptvYBHyva"
      },
      "source": [
        "## For LDBPE Fine Tuning"
      ]
    },
    {
      "cell_type": "code",
      "execution_count": null,
      "metadata": {
        "id": "WdCqreEUi5n7"
      },
      "outputs": [],
      "source": [
        "ldbpe_train, ldbpe_test = train_test_split(ldbpe_data, test_size=0.2, random_state=42)\n",
        "ldbpe_train, ldbpe_validation = train_test_split(ldbpe_train, test_size=0.05, random_state=42)"
      ]
    },
    {
      "cell_type": "code",
      "execution_count": null,
      "metadata": {
        "colab": {
          "base_uri": "https://localhost:8080/"
        },
        "id": "yvU4KfUImwxO",
        "outputId": "500a3e4f-a23f-4fcb-c393-57ab9a4671ae"
      },
      "outputs": [
        {
          "output_type": "stream",
          "name": "stdout",
          "text": [
            "(1599002, 5)\n",
            "(84159, 5)\n",
            "(420791, 5)\n"
          ]
        }
      ],
      "source": [
        "print(ldbpe_train.shape)\n",
        "print(ldbpe_validation.shape)\n",
        "print(ldbpe_test.shape)"
      ]
    },
    {
      "cell_type": "code",
      "execution_count": null,
      "metadata": {
        "id": "2PEKqe79lNaD"
      },
      "outputs": [],
      "source": [
        "ldbpe_train_generator = generator(ldbpe_train)\n",
        "ldbpe_validation_generator = generator(ldbpe_validation)\n",
        "ldbpe_test_generator = generator(ldbpe_test)"
      ]
    },
    {
      "cell_type": "code",
      "execution_count": null,
      "metadata": {
        "id": "JrP_2YNXyKeC",
        "colab": {
          "base_uri": "https://localhost:8080/"
        },
        "outputId": "73f6b023-4540-4ca3-a40d-55f7e5145ba6"
      },
      "outputs": [
        {
          "output_type": "execute_result",
          "data": {
            "text/plain": [
              "182"
            ]
          },
          "metadata": {},
          "execution_count": 45
        }
      ],
      "source": [
        "len(list(ldbpe_train_generator))"
      ]
    },
    {
      "cell_type": "code",
      "execution_count": null,
      "metadata": {
        "id": "T1VRaqAYQ3B9"
      },
      "outputs": [],
      "source": [
        "# next(ldbpe_train_generator)"
      ]
    },
    {
      "cell_type": "markdown",
      "metadata": {
        "id": "dAh_29bv4Z6x"
      },
      "source": [
        "#### No Sampling"
      ]
    },
    {
      "cell_type": "code",
      "execution_count": null,
      "metadata": {
        "id": "zHo3cUR4H8kB"
      },
      "outputs": [],
      "source": [
        "live_checkpoint_path = './best_model/best_live_model.model'\n",
        "train_evaluate_ldbpe(ldbpe_train_generator, ldbpe_validation_generator, ldbpe_test_generator, live_checkpoint_path)"
      ]
    },
    {
      "cell_type": "markdown",
      "metadata": {
        "id": "NrdzzgS0ICPS"
      },
      "source": [
        "# Use model and predict"
      ]
    },
    {
      "cell_type": "code",
      "execution_count": 12,
      "metadata": {
        "id": "uSi19BacIFyT"
      },
      "outputs": [],
      "source": [
        "historical_checkpoint_path = './best_model/best_historical_hybird_model.model'\n",
        "live_checkpoint_path = './best_model/best_live_model.model'\n",
        "\n",
        "hdbpe_model = load_model(historical_checkpoint_path)\n",
        "ldbpe_model = load_model(live_checkpoint_path)"
      ]
    },
    {
      "cell_type": "code",
      "source": [
        "import joblib\n",
        "\n",
        "hbdpe_scaler = joblib.load('hbdpe_minmax_model.pkl')\n",
        "lb_encoder = joblib.load('ldbpe_encoder_model.pkl')"
      ],
      "metadata": {
        "id": "fuVuk9HIw6aI"
      },
      "execution_count": 14,
      "outputs": []
    },
    {
      "cell_type": "code",
      "source": [
        "hbdpe_input = np.array([97.0,\t21.007767,\t105.841631]).reshape(1, -1)\n",
        "hbdpe_input = hbdpe_scaler.transform(hbdpe_input)\n",
        "ldbpe_input = np.array([97.0, 0.0,\t5.6,\tlb_encoder.transform(['813363002#1_2'])[0]]).reshape(1, -1)"
      ],
      "metadata": {
        "colab": {
          "base_uri": "https://localhost:8080/"
        },
        "id": "1mkq340tt0zk",
        "outputId": "0dd5b0d1-3704-4126-d2a5-5092fb123d56"
      },
      "execution_count": 15,
      "outputs": [
        {
          "output_type": "stream",
          "name": "stderr",
          "text": [
            "/usr/local/lib/python3.10/dist-packages/sklearn/base.py:439: UserWarning: X does not have valid feature names, but MinMaxScaler was fitted with feature names\n",
            "  warnings.warn(\n"
          ]
        }
      ]
    },
    {
      "cell_type": "code",
      "source": [
        "hbdpe_pred = hdbpe_model.predict(hbdpe_input)\n",
        "p1 = hbdpe_pred.max()\n",
        "print(p1)\n",
        "\n",
        "lbdpe_pred = ldbpe_model.predict(np.array([ldbpe_input]))\n",
        "p2 = lbdpe_pred.max()\n",
        "print(p2)\n",
        "\n",
        "result = (p1 * p2) / ((p1 * p2) + (1 - p1) * (1 - p2))\n",
        "result"
      ],
      "metadata": {
        "colab": {
          "base_uri": "https://localhost:8080/"
        },
        "id": "VfgA9y0VtOZw",
        "outputId": "809242af-53c6-42b6-bfb5-79ae4b0b15b4"
      },
      "execution_count": 16,
      "outputs": [
        {
          "output_type": "stream",
          "name": "stdout",
          "text": [
            "1/1 [==============================] - 0s 298ms/step\n",
            "0.66080713\n",
            "1/1 [==============================] - 1s 747ms/step\n",
            "0.0\n"
          ]
        },
        {
          "output_type": "execute_result",
          "data": {
            "text/plain": [
              "0.0"
            ]
          },
          "metadata": {},
          "execution_count": 16
        }
      ]
    },
    {
      "cell_type": "code",
      "source": [],
      "metadata": {
        "id": "uBroFX0rWJCR"
      },
      "execution_count": null,
      "outputs": []
    }
  ],
  "metadata": {
    "colab": {
      "toc_visible": true,
      "provenance": []
    },
    "kernelspec": {
      "display_name": "Python 3",
      "language": "python",
      "name": "python3"
    },
    "language_info": {
      "codemirror_mode": {
        "name": "ipython",
        "version": 3
      },
      "file_extension": ".py",
      "mimetype": "text/x-python",
      "name": "python",
      "nbconvert_exporter": "python",
      "pygments_lexer": "ipython3",
      "version": "3.7.10"
    }
  },
  "nbformat": 4,
  "nbformat_minor": 0
}